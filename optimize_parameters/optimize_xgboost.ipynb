{
 "cells": [
  {
   "cell_type": "code",
   "execution_count": 1,
   "metadata": {},
   "outputs": [],
   "source": [
    "import pandas as pd\n",
    "from xgboost import XGBClassifier\n",
    "from sklearn.model_selection import train_test_split\n",
    "from sklearn.preprocessing import StandardScaler\n",
    "from time import time"
   ]
  },
  {
   "cell_type": "code",
   "execution_count": 2,
   "metadata": {},
   "outputs": [],
   "source": [
    "df1 = pd.read_csv('../data/match_data.csv')\n",
    "X1 = df1.drop(columns=['Date', 'Team1', 'Team2', 'Score'])\n",
    "y1 = df1['Score']\n",
    "ds1_name = \"match_data\"\n",
    "\n",
    "df2 = pd.read_csv('../data/cleaned_rounds_data.csv')\n",
    "df2 = df2.drop(columns=[f'player_{i}_{suffix}' for i in range(1, 11) for suffix in ['team_name', 'name']])\n",
    "X2 = df2.drop(['round_winner'], axis=1)\n",
    "y2 = df2['round_winner']\n",
    "ds2_name = \"rounds_data\"\n",
    "\n",
    "df3 = pd.read_csv('../data/cleaned_rounds_data_with_stats.csv')\n",
    "df3 = df3.drop(columns=[f'player_{i}_{suffix}' for i in range(1, 11) for suffix in ['team_name', 'name']])\n",
    "X3 = df3.drop(columns=['round_winner'])\n",
    "y3 = df3['round_winner']\n",
    "ds3_name = \"rounds_data_with_stats\"\n",
    "\n",
    "datasets = [(X1, y1, ds1_name), (X2, y2, ds2_name), (X3, y3, ds3_name)]"
   ]
  },
  {
   "cell_type": "code",
   "execution_count": 3,
   "metadata": {},
   "outputs": [],
   "source": [
    "max_depth = [3, 5, 7, 9, 11]\n",
    "learning_rate = [0.01, 0.03, 0.05, 0.1, 0.3]\n",
    "gamma = [0, 0.1, 0.2, 0.3, 0.4]\n",
    "reg_lambda = [0, 0.1, 0.2, 0.3, 0.4]"
   ]
  },
  {
   "cell_type": "code",
   "execution_count": 5,
   "metadata": {},
   "outputs": [
    {
     "name": "stdout",
     "output_type": "stream",
     "text": [
      "match_data: new best accuracy=0.598825831702544 with max_depth=3, learning_rate=0.01, gamma=0, reg_lambda=0\n",
      "match_data: new best accuracy=0.6046966731898239 with max_depth=3, learning_rate=0.05, gamma=0, reg_lambda=0.2\n",
      "match_data: new best accuracy=0.6066536203522505 with max_depth=3, learning_rate=0.1, gamma=0.2, reg_lambda=0.3\n",
      "match_data: new best accuracy=0.6144814090019569 with max_depth=3, learning_rate=0.1, gamma=0.4, reg_lambda=0.4\n",
      "match_data: new best accuracy=0.6223091976516634 with max_depth=3, learning_rate=0.3, gamma=0, reg_lambda=0.4\n",
      "match_data: new best accuracy=0.6281800391389433 with max_depth=3, learning_rate=0.3, gamma=0.2, reg_lambda=0.4\n",
      "Dataset: match_data, Accuracy:0.598825831702544, Best max_depth:3, Best learning_rate:0.3, Best gamma:0.2, Best reg_lambda:0.4, Duration:45.460251569747925\n",
      "rounds_data: new best accuracy=0.7472198460222412 with max_depth=3, learning_rate=0.01, gamma=0, reg_lambda=0\n",
      "rounds_data: new best accuracy=0.7476475620188195 with max_depth=3, learning_rate=0.01, gamma=0, reg_lambda=0.1\n",
      "rounds_data: new best accuracy=0.7497861420017109 with max_depth=3, learning_rate=0.01, gamma=0, reg_lambda=0.2\n",
      "rounds_data: new best accuracy=0.7733105218135158 with max_depth=3, learning_rate=0.03, gamma=0, reg_lambda=0\n",
      "rounds_data: new best accuracy=0.7780153977758768 with max_depth=3, learning_rate=0.05, gamma=0, reg_lambda=0\n",
      "rounds_data: new best accuracy=0.7818648417450813 with max_depth=3, learning_rate=0.3, gamma=0.4, reg_lambda=0.3\n",
      "rounds_data: new best accuracy=0.7822925577416595 with max_depth=5, learning_rate=0.03, gamma=0.2, reg_lambda=0.1\n",
      "rounds_data: new best accuracy=0.7835757057313943 with max_depth=5, learning_rate=0.03, gamma=0.2, reg_lambda=0.3\n",
      "rounds_data: new best accuracy=0.7852865697177075 with max_depth=5, learning_rate=0.05, gamma=0.1, reg_lambda=0\n",
      "rounds_data: new best accuracy=0.7869974337040205 with max_depth=5, learning_rate=0.05, gamma=0.1, reg_lambda=0.2\n",
      "rounds_data: new best accuracy=0.7891360136869119 with max_depth=5, learning_rate=0.05, gamma=0.3, reg_lambda=0.2\n",
      "rounds_data: new best accuracy=0.7959794696321643 with max_depth=5, learning_rate=0.3, gamma=0, reg_lambda=0\n",
      "rounds_data: new best accuracy=0.8045337895637297 with max_depth=5, learning_rate=0.3, gamma=0, reg_lambda=0.1\n",
      "rounds_data: new best accuracy=0.806672369546621 with max_depth=5, learning_rate=0.3, gamma=0, reg_lambda=0.3\n",
      "rounds_data: new best accuracy=0.8079555175363559 with max_depth=5, learning_rate=0.3, gamma=0.3, reg_lambda=0.1\n",
      "rounds_data: new best accuracy=0.8130881094952951 with max_depth=7, learning_rate=0.1, gamma=0, reg_lambda=0\n",
      "rounds_data: new best accuracy=0.8135158254918734 with max_depth=7, learning_rate=0.1, gamma=0.1, reg_lambda=0.1\n",
      "rounds_data: new best accuracy=0.8143712574850299 with max_depth=7, learning_rate=0.3, gamma=0, reg_lambda=0.3\n",
      "rounds_data: new best accuracy=0.8177929854576561 with max_depth=9, learning_rate=0.05, gamma=0.2, reg_lambda=0\n",
      "rounds_data: new best accuracy=0.8195038494439693 with max_depth=9, learning_rate=0.05, gamma=0.2, reg_lambda=0.2\n",
      "rounds_data: new best accuracy=0.8212147134302823 with max_depth=9, learning_rate=0.1, gamma=0.2, reg_lambda=0.2\n",
      "rounds_data: new best accuracy=0.8220701454234388 with max_depth=9, learning_rate=0.1, gamma=0.3, reg_lambda=0.3\n",
      "Dataset: rounds_data, Accuracy:0.8258451005562687, Best max_depth:9, Best learning_rate:0.1, Best gamma:0.3, Best reg_lambda:0.3, Duration:329.59857058525085\n",
      "rounds_data_with_stats: new best accuracy=0.7485029940119761 with max_depth=3, learning_rate=0.01, gamma=0, reg_lambda=0\n",
      "rounds_data_with_stats: new best accuracy=0.7506415739948674 with max_depth=3, learning_rate=0.01, gamma=0, reg_lambda=0.1\n",
      "rounds_data_with_stats: new best accuracy=0.7741659538066724 with max_depth=3, learning_rate=0.03, gamma=0, reg_lambda=0\n",
      "rounds_data_with_stats: new best accuracy=0.7750213857998289 with max_depth=3, learning_rate=0.03, gamma=0, reg_lambda=0.2\n",
      "rounds_data_with_stats: new best accuracy=0.776732249786142 with max_depth=3, learning_rate=0.05, gamma=0, reg_lambda=0.2\n",
      "rounds_data_with_stats: new best accuracy=0.7827202737382378 with max_depth=5, learning_rate=0.03, gamma=0, reg_lambda=0\n",
      "rounds_data_with_stats: new best accuracy=0.7848588537211292 with max_depth=5, learning_rate=0.05, gamma=0.1, reg_lambda=0\n",
      "rounds_data_with_stats: new best accuracy=0.7869974337040205 with max_depth=5, learning_rate=0.05, gamma=0.2, reg_lambda=0.1\n",
      "rounds_data_with_stats: new best accuracy=0.7874251497005988 with max_depth=5, learning_rate=0.1, gamma=0, reg_lambda=0.3\n",
      "rounds_data_with_stats: new best accuracy=0.7908468776732249 with max_depth=5, learning_rate=0.1, gamma=0.2, reg_lambda=0.3\n",
      "rounds_data_with_stats: new best accuracy=0.8071000855431993 with max_depth=5, learning_rate=0.3, gamma=0, reg_lambda=0\n",
      "rounds_data_with_stats: new best accuracy=0.8088109495295124 with max_depth=7, learning_rate=0.1, gamma=0, reg_lambda=0\n",
      "rounds_data_with_stats: new best accuracy=0.8135158254918734 with max_depth=7, learning_rate=0.1, gamma=0, reg_lambda=0.1\n",
      "rounds_data_with_stats: new best accuracy=0.8143712574850299 with max_depth=9, learning_rate=0.05, gamma=0, reg_lambda=0.2\n",
      "rounds_data_with_stats: new best accuracy=0.8156544054747648 with max_depth=9, learning_rate=0.05, gamma=0.1, reg_lambda=0.1\n",
      "rounds_data_with_stats: new best accuracy=0.8186484174508126 with max_depth=9, learning_rate=0.05, gamma=0.3, reg_lambda=0\n",
      "Dataset: rounds_data_with_stats, Accuracy:0.8275566966195977, Best max_depth:9, Best learning_rate:0.05, Best gamma:0.3, Best reg_lambda:0, Duration:470.74035000801086\n"
     ]
    }
   ],
   "source": [
    "best_params = []\n",
    "for X, y, ds_name in datasets:\n",
    "    X = StandardScaler().fit_transform(X)\n",
    "    X_train, X_test, y_train, y_test = train_test_split(X, y, test_size=0.4, random_state=42, stratify=y)\n",
    "    X_test, X_val, y_test, y_val = train_test_split(X_test, y_test, test_size=0.5, random_state=42, stratify=y_test)\n",
    "    best_acc = 0\n",
    "    best_md = 0\n",
    "    best_lr = 0\n",
    "    best_g = 0\n",
    "    best_rl = 0\n",
    "    time_start = time()\n",
    "    for md in max_depth:\n",
    "        for lr in learning_rate:\n",
    "            for g in gamma:\n",
    "                for rl in reg_lambda:\n",
    "                    xgb = XGBClassifier(max_depth=md, learning_rate=lr, gamma=g, reg_lambda=rl)\n",
    "                    xgb.fit(X_train, y_train)\n",
    "                    acc = xgb.score(X_val, y_val)\n",
    "                    if acc > best_acc:\n",
    "                        print(f\"{ds_name}: new best accuracy={acc} with max_depth={md}, learning_rate={lr}, gamma={g}, reg_lambda={rl}\")\n",
    "                        best_md = md\n",
    "                        best_lr = lr\n",
    "                        best_g = g\n",
    "                        best_rl = rl\n",
    "                        best_acc = acc\n",
    "    xgb = XGBClassifier(max_depth=best_md, learning_rate=best_lr, gamma=best_g, reg_lambda=best_rl)\n",
    "    xgb.fit(X_train, y_train)\n",
    "    acc = xgb.score(X_test, y_test)\n",
    "    time_end = time()\n",
    "    print(f\"Dataset: {ds_name}, Accuracy:{acc}, Best max_depth:{best_md}, Best learning_rate:{best_lr}, Best gamma:{best_g}, Best reg_lambda:{best_rl}, Duration:{time_end-time_start}\")\n",
    "\n",
    "    best_params.append((ds_name, best_md, best_lr, best_g, best_rl, acc))"
   ]
  },
  {
   "cell_type": "markdown",
   "metadata": {},
   "source": [
    "IN THE LOGS ABOVE FOR THE BEST PARAMETERS I PRINTED THE BEST ACCURACY NOT THE TEST ACCURACY\n",
    "BELOW IS THE TEST ACCURACY"
   ]
  },
  {
   "cell_type": "code",
   "execution_count": 15,
   "metadata": {},
   "outputs": [
    {
     "name": "stdout",
     "output_type": "stream",
     "text": [
      "Dataset: match_data, Accuracy:0.598825831702544, Best max_depth:3, Best learning_rate:0.3, Best gamma:0.2, Best reg_lambda:0.4, Best scale_pos_weight:1\n",
      "Dataset: rounds_data, Accuracy:0.8258451005562687, Best max_depth:9, Best learning_rate:0.1, Best gamma:0.3, Best reg_lambda:0.3, Best scale_pos_weight:1\n",
      "Dataset: rounds_data_with_stats, Accuracy:0.8275566966195977, Best max_depth:9, Best learning_rate:0.05, Best gamma:0.3, Best reg_lambda:0, Best scale_pos_weight:1\n"
     ]
    }
   ],
   "source": [
    "for ds_name, best_md, best_lr, best_g, best_rl, best_spw, acc in best_params:\n",
    "    print(f\"Dataset: {ds_name}, Accuracy:{acc}, Best max_depth:{best_md}, Best learning_rate:{best_lr}, Best gamma:{best_g}, Best reg_lambda:{best_rl}, Best scale_pos_weight:{best_spw}\")"
   ]
  }
 ],
 "metadata": {
  "kernelspec": {
   "display_name": "venv",
   "language": "python",
   "name": "python3"
  },
  "language_info": {
   "codemirror_mode": {
    "name": "ipython",
    "version": 3
   },
   "file_extension": ".py",
   "mimetype": "text/x-python",
   "name": "python",
   "nbconvert_exporter": "python",
   "pygments_lexer": "ipython3",
   "version": "3.11.7"
  }
 },
 "nbformat": 4,
 "nbformat_minor": 2
}

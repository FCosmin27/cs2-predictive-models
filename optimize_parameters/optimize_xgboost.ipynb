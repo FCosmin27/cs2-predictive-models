{
 "cells": [
  {
   "cell_type": "code",
   "execution_count": 7,
   "metadata": {},
   "outputs": [],
   "source": [
    "import numpy as np\n",
    "import pandas as pd\n",
    "from xgboost import XGBClassifier\n",
    "from sklearn.model_selection import train_test_split\n",
    "from sklearn.preprocessing import StandardScaler\n",
    "from time import time"
   ]
  },
  {
   "cell_type": "code",
   "execution_count": 8,
   "metadata": {},
   "outputs": [],
   "source": [
    "df1 = pd.read_csv('../data/match_data.csv')\n",
    "X1 = df1.drop(columns=['Date', 'Team1', 'Team2', 'Score'])\n",
    "y1 = df1['Score']\n",
    "ds1_name = \"match_data\"\n",
    "\n",
    "df2 = pd.read_csv('../data/cleaned_rounds_data.csv')\n",
    "df2 = df2.drop(columns=[f'player_{i}_{suffix}' for i in range(1, 11) for suffix in ['team_name', 'name']])\n",
    "X2 = df2.drop(['round_winner'], axis=1)\n",
    "y2 = df2['round_winner']\n",
    "ds2_name = \"rounds_data\"\n",
    "\n",
    "df3 = pd.read_csv('../data/cleaned_rounds_data_with_stats.csv')\n",
    "df3 = df3.drop(columns=[f'player_{i}_{suffix}' for i in range(1, 11) for suffix in ['team_name', 'name']])\n",
    "X3 = df3.drop(columns=['round_winner'])\n",
    "y3 = df3['round_winner']\n",
    "ds3_name = \"rounds_data_with_stats\"\n",
    "\n",
    "datasets = [(X1, y1, ds1_name), (X2, y2, ds2_name), (X3, y3, ds3_name)]"
   ]
  },
  {
   "cell_type": "code",
   "execution_count": 9,
   "metadata": {},
   "outputs": [],
   "source": [
    "max_depth = [3, 5, 7, 9, 11]\n",
    "learning_rate = [0.01, 0.03, 0.05, 0.1, 0.3]\n",
    "gamma = [0, 0.1, 0.2, 0.3, 0.4]\n",
    "reg_lambda = [0, 0.1, 0.2, 0.3, 0.4]"
   ]
  },
  {
   "cell_type": "code",
   "execution_count": 12,
   "metadata": {},
   "outputs": [
    {
     "name": "stdout",
     "output_type": "stream",
     "text": [
      "match_data: new best accuracy=0.6027397260273972 with max_depth=3, learning_rate=0.01, gamma=0, reg_lambda=0, n_estimators=163\n",
      "match_data: new best accuracy=0.6046966731898239 with max_depth=3, learning_rate=0.05, gamma=0, reg_lambda=0.1, n_estimators=55\n",
      "match_data: new best accuracy=0.6066536203522505 with max_depth=3, learning_rate=0.1, gamma=0, reg_lambda=0.4, n_estimators=17\n",
      "match_data: new best accuracy=0.6086105675146771 with max_depth=3, learning_rate=0.3, gamma=0, reg_lambda=0, n_estimators=8\n",
      "match_data: new best accuracy=0.6301369863013698 with max_depth=3, learning_rate=0.3, gamma=0, reg_lambda=0.2, n_estimators=7\n",
      "Dataset: match_data, Accuracy:0.6164383561643836, Best max_depth:3, Best learning_rate:0.3, Best gamma:0, Best reg_lambda:0.2, Best n_estimators: 7, Duration:38.15264415740967\n",
      "rounds_data: new best accuracy=0.7784431137724551 with max_depth=3, learning_rate=0.01, gamma=0, reg_lambda=0, n_estimators=500\n",
      "rounds_data: new best accuracy=0.7788708297690333 with max_depth=3, learning_rate=0.01, gamma=0, reg_lambda=0.3, n_estimators=500\n",
      "rounds_data: new best accuracy=0.7792985457656116 with max_depth=3, learning_rate=0.03, gamma=0, reg_lambda=0.4, n_estimators=498\n",
      "rounds_data: new best accuracy=0.7801539777587682 with max_depth=3, learning_rate=0.03, gamma=0.3, reg_lambda=0, n_estimators=500\n",
      "rounds_data: new best accuracy=0.7810094097519247 with max_depth=3, learning_rate=0.1, gamma=0, reg_lambda=0, n_estimators=320\n",
      "rounds_data: new best accuracy=0.7818648417450813 with max_depth=5, learning_rate=0.01, gamma=0, reg_lambda=0, n_estimators=500\n",
      "rounds_data: new best accuracy=0.7822925577416595 with max_depth=5, learning_rate=0.01, gamma=0, reg_lambda=0.1, n_estimators=500\n",
      "rounds_data: new best accuracy=0.7844311377245509 with max_depth=5, learning_rate=0.01, gamma=0, reg_lambda=0.2, n_estimators=500\n",
      "rounds_data: new best accuracy=0.7848588537211292 with max_depth=5, learning_rate=0.01, gamma=0.4, reg_lambda=0.2, n_estimators=500\n",
      "rounds_data: new best accuracy=0.7942686056458511 with max_depth=5, learning_rate=0.03, gamma=0, reg_lambda=0, n_estimators=499\n",
      "rounds_data: new best accuracy=0.7985457656116339 with max_depth=5, learning_rate=0.05, gamma=0, reg_lambda=0.3, n_estimators=388\n",
      "rounds_data: new best accuracy=0.8015397775876818 with max_depth=5, learning_rate=0.05, gamma=0.1, reg_lambda=0.3, n_estimators=471\n",
      "rounds_data: new best accuracy=0.80196749358426 with max_depth=5, learning_rate=0.1, gamma=0.2, reg_lambda=0.1, n_estimators=220\n",
      "rounds_data: new best accuracy=0.8156544054747648 with max_depth=7, learning_rate=0.03, gamma=0, reg_lambda=0, n_estimators=383\n",
      "rounds_data: new best accuracy=0.8160821214713431 with max_depth=7, learning_rate=0.03, gamma=0, reg_lambda=0.2, n_estimators=388\n",
      "rounds_data: new best accuracy=0.8182207014542344 with max_depth=7, learning_rate=0.03, gamma=0.2, reg_lambda=0, n_estimators=364\n",
      "rounds_data: new best accuracy=0.8195038494439693 with max_depth=7, learning_rate=0.05, gamma=0, reg_lambda=0.3, n_estimators=268\n",
      "rounds_data: new best accuracy=0.8224978614200171 with max_depth=9, learning_rate=0.05, gamma=0.2, reg_lambda=0.2, n_estimators=146\n",
      "Dataset: rounds_data, Accuracy:0.8241335044929397, Best max_depth:9, Best learning_rate:0.05, Best gamma:0.2, Best reg_lambda:0.2, Best n_estimators: 146, Duration:1147.1386811733246\n",
      "rounds_data_with_stats: new best accuracy=0.7784431137724551 with max_depth=3, learning_rate=0.01, gamma=0, reg_lambda=0, n_estimators=500\n",
      "rounds_data_with_stats: new best accuracy=0.77972626176219 with max_depth=3, learning_rate=0.01, gamma=0, reg_lambda=0.4, n_estimators=500\n",
      "rounds_data_with_stats: new best accuracy=0.7827202737382378 with max_depth=5, learning_rate=0.01, gamma=0, reg_lambda=0, n_estimators=499\n",
      "rounds_data_with_stats: new best accuracy=0.7840034217279727 with max_depth=5, learning_rate=0.01, gamma=0, reg_lambda=0.4, n_estimators=500\n",
      "rounds_data_with_stats: new best accuracy=0.7908468776732249 with max_depth=5, learning_rate=0.03, gamma=0, reg_lambda=0.2, n_estimators=483\n",
      "rounds_data_with_stats: new best accuracy=0.7917023096663816 with max_depth=5, learning_rate=0.03, gamma=0.2, reg_lambda=0, n_estimators=494\n",
      "rounds_data_with_stats: new best accuracy=0.7929854576561164 with max_depth=5, learning_rate=0.03, gamma=0.3, reg_lambda=0.1, n_estimators=467\n",
      "rounds_data_with_stats: new best accuracy=0.7938408896492729 with max_depth=5, learning_rate=0.03, gamma=0.3, reg_lambda=0.3, n_estimators=493\n",
      "rounds_data_with_stats: new best accuracy=0.7942686056458511 with max_depth=5, learning_rate=0.03, gamma=0.4, reg_lambda=0.1, n_estimators=498\n",
      "rounds_data_with_stats: new best accuracy=0.7946963216424294 with max_depth=5, learning_rate=0.05, gamma=0.2, reg_lambda=0.4, n_estimators=320\n",
      "rounds_data_with_stats: new best accuracy=0.7968349016253208 with max_depth=5, learning_rate=0.05, gamma=0.3, reg_lambda=0, n_estimators=493\n",
      "rounds_data_with_stats: new best accuracy=0.7981180496150556 with max_depth=5, learning_rate=0.1, gamma=0.1, reg_lambda=0.1, n_estimators=210\n",
      "rounds_data_with_stats: new best accuracy=0.7989734816082121 with max_depth=5, learning_rate=0.1, gamma=0.3, reg_lambda=0.3, n_estimators=210\n",
      "rounds_data_with_stats: new best accuracy=0.8028229255774166 with max_depth=7, learning_rate=0.01, gamma=0, reg_lambda=0, n_estimators=500\n",
      "rounds_data_with_stats: new best accuracy=0.8045337895637297 with max_depth=7, learning_rate=0.01, gamma=0.2, reg_lambda=0, n_estimators=500\n",
      "rounds_data_with_stats: new best accuracy=0.8053892215568862 with max_depth=7, learning_rate=0.03, gamma=0, reg_lambda=0, n_estimators=285\n",
      "rounds_data_with_stats: new best accuracy=0.8058169375534645 with max_depth=7, learning_rate=0.03, gamma=0, reg_lambda=0.1, n_estimators=274\n",
      "rounds_data_with_stats: new best accuracy=0.8109495295124037 with max_depth=7, learning_rate=0.03, gamma=0, reg_lambda=0.2, n_estimators=357\n",
      "rounds_data_with_stats: new best accuracy=0.8135158254918734 with max_depth=7, learning_rate=0.03, gamma=0.4, reg_lambda=0.4, n_estimators=367\n",
      "rounds_data_with_stats: new best accuracy=0.8139435414884517 with max_depth=7, learning_rate=0.05, gamma=0, reg_lambda=0.1, n_estimators=218\n",
      "rounds_data_with_stats: new best accuracy=0.8143712574850299 with max_depth=7, learning_rate=0.05, gamma=0.4, reg_lambda=0.1, n_estimators=223\n",
      "rounds_data_with_stats: new best accuracy=0.8152266894781864 with max_depth=9, learning_rate=0.01, gamma=0, reg_lambda=0.3, n_estimators=497\n",
      "rounds_data_with_stats: new best accuracy=0.8173652694610778 with max_depth=9, learning_rate=0.01, gamma=0.1, reg_lambda=0.1, n_estimators=499\n",
      "rounds_data_with_stats: new best accuracy=0.8177929854576561 with max_depth=9, learning_rate=0.05, gamma=0.4, reg_lambda=0.1, n_estimators=112\n",
      "rounds_data_with_stats: new best accuracy=0.8199315654405475 with max_depth=9, learning_rate=0.1, gamma=0.3, reg_lambda=0, n_estimators=62\n",
      "Dataset: rounds_data_with_stats, Accuracy:0.8241335044929397, Best max_depth:9, Best learning_rate:0.1, Best gamma:0.3, Best reg_lambda:0, Best n_estimators: 62, Duration:1428.9488596916199\n"
     ]
    }
   ],
   "source": [
    "best_params = []\n",
    "for X, y, ds_name in datasets:\n",
    "    X = StandardScaler().fit_transform(X)\n",
    "    X_train, X_test, y_train, y_test = train_test_split(X, y, test_size=0.4, random_state=42, stratify=y)\n",
    "    X_test, X_val, y_test, y_val = train_test_split(X_test, y_test, test_size=0.5, random_state=42, stratify=y_test)\n",
    "    best_acc = 0\n",
    "    best_md = 0\n",
    "    best_lr = 0\n",
    "    best_g = 0\n",
    "    best_rl = 0\n",
    "    best_n_estimators = 0\n",
    "    time_start = time()\n",
    "    for md in max_depth:\n",
    "        for lr in learning_rate:\n",
    "            for g in gamma:\n",
    "                for rl in reg_lambda:\n",
    "                    model = XGBClassifier(max_depth=md, n_estimators=500, learning_rate=lr, gamma=g, reg_lambda=rl, early_stopping_rounds=20)\n",
    "                    model.fit(X_train, y_train, eval_set=[(X_val, y_val)], verbose=0)\n",
    "                    acc = model.score(X_val, y_val)\n",
    "                    if acc > best_acc:\n",
    "                        results = model.evals_result()['validation_0']['logloss']\n",
    "                        best_md = md\n",
    "                        best_lr = lr\n",
    "                        best_g = g\n",
    "                        best_rl = rl\n",
    "                        best_acc = acc\n",
    "                        best_n_estimators = np.argmin(results) + 1\n",
    "                        print(f\"{ds_name}: new best accuracy={acc} with max_depth={md}, learning_rate={lr}, gamma={g}, reg_lambda={rl}, n_estimators={best_n_estimators}\")\n",
    "    model = XGBClassifier(max_depth=best_md, learning_rate=best_lr, gamma=best_g, reg_lambda=best_rl, n_estimators=best_n_estimators)\n",
    "    model.fit(X_train, y_train)\n",
    "    acc = model.score(X_test, y_test)\n",
    "    time_end = time()\n",
    "    print(f\"Dataset: {ds_name}, Accuracy:{acc}, Best max_depth:{best_md}, Best learning_rate:{best_lr}, Best gamma:{best_g}, Best reg_lambda:{best_rl}, Best n_estimators: {best_n_estimators}, Duration:{time_end-time_start}\")\n",
    "\n",
    "    best_params.append((ds_name, best_md, best_lr, best_g, best_rl, best_n_estimators, acc))"
   ]
  },
  {
   "cell_type": "markdown",
   "metadata": {},
   "source": [
    "IN THE LOGS ABOVE FOR THE BEST PARAMETERS I PRINTED THE BEST ACCURACY NOT THE TEST ACCURACY\n",
    "BELOW IS THE TEST ACCURACY"
   ]
  },
  {
   "cell_type": "code",
   "execution_count": 14,
   "metadata": {},
   "outputs": [
    {
     "name": "stdout",
     "output_type": "stream",
     "text": [
      "Dataset: match_data, Accuracy:0.6164383561643836, Best max_depth:3, Best learning_rate:0.3, Best gamma:0, Best reg_lambda:0.2, Best n_estimators: 7\n",
      "Dataset: rounds_data, Accuracy:0.8241335044929397, Best max_depth:9, Best learning_rate:0.05, Best gamma:0.2, Best reg_lambda:0.2, Best n_estimators: 146\n",
      "Dataset: rounds_data_with_stats, Accuracy:0.8241335044929397, Best max_depth:9, Best learning_rate:0.1, Best gamma:0.3, Best reg_lambda:0, Best n_estimators: 62\n"
     ]
    }
   ],
   "source": [
    "for ds_name, best_md, best_lr, best_g, best_rl, best_n_estimators, acc in best_params:\n",
    "    print(f\"Dataset: {ds_name}, Accuracy:{acc}, Best max_depth:{best_md}, Best learning_rate:{best_lr}, Best gamma:{best_g}, Best reg_lambda:{best_rl}, Best n_estimators: {best_n_estimators}\")"
   ]
  }
 ],
 "metadata": {
  "kernelspec": {
   "display_name": "venv",
   "language": "python",
   "name": "python3"
  },
  "language_info": {
   "codemirror_mode": {
    "name": "ipython",
    "version": 3
   },
   "file_extension": ".py",
   "mimetype": "text/x-python",
   "name": "python",
   "nbconvert_exporter": "python",
   "pygments_lexer": "ipython3",
   "version": "3.11.7"
  }
 },
 "nbformat": 4,
 "nbformat_minor": 2
}

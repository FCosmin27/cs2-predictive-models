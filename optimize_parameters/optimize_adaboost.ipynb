{
 "cells": [
  {
   "cell_type": "code",
   "execution_count": 1,
   "metadata": {},
   "outputs": [],
   "source": [
    "import pandas as pd\n",
    "from sklearn.ensemble import AdaBoostClassifier\n",
    "from sklearn.tree import DecisionTreeClassifier\n",
    "from sklearn.preprocessing import StandardScaler\n",
    "from sklearn.model_selection import train_test_split\n",
    "from sklearn.metrics import accuracy_score\n",
    "from time import time"
   ]
  },
  {
   "cell_type": "code",
   "execution_count": 2,
   "metadata": {},
   "outputs": [],
   "source": [
    "df1 = pd.read_csv('../data/match_data.csv')\n",
    "X1 = df1.drop(columns=['Date', 'Team1', 'Team2', 'Score'])\n",
    "y1 = df1['Score']\n",
    "ds1_name = \"match_data\"\n",
    "\n",
    "df2 = pd.read_csv('../data/cleaned_rounds_data.csv')\n",
    "df2 = df2.drop(columns=[f'player_{i}_{suffix}' for i in range(1, 11) for suffix in ['team_name', 'name']])\n",
    "X2 = df2.drop(['round_winner'], axis=1)\n",
    "y2 = df2['round_winner']\n",
    "ds2_name = \"rounds_data\"\n",
    "\n",
    "df3 = pd.read_csv('../data/cleaned_rounds_data_with_stats.csv')\n",
    "df3 = df3.drop(columns=[f'player_{i}_{suffix}' for i in range(1, 11) for suffix in ['team_name', 'name']])\n",
    "X3 = df3.drop(columns=['round_winner'])\n",
    "y3 = df3['round_winner']\n",
    "ds3_name = \"rounds_data_with_stats\"\n",
    "\n",
    "datasets = [(X1, y1, ds1_name), (X2, y2, ds2_name), (X3, y3, ds3_name)]"
   ]
  },
  {
   "cell_type": "code",
   "execution_count": 4,
   "metadata": {},
   "outputs": [],
   "source": [
    "learning_rates = [0.01, 0.03, 0.05, 0.07, 0.1 ,0.3, 0.5, 0.7, 1]\n",
    "n_estimators = [10, 50, 100, 150, 200, 300, 500, 1000]\n",
    "max_depths = [1, 2, 3, 4, 5, 6, 7, 8, 9, 10]"
   ]
  },
  {
   "cell_type": "code",
   "execution_count": 8,
   "metadata": {},
   "outputs": [
    {
     "name": "stdout",
     "output_type": "stream",
     "text": [
      "Dataset: match_data, New best acuracy: 0.5733855185909981, Learning Rate: 0.01, N Estimators: 10, Max Depth: 1\n",
      "Dataset: match_data, New best acuracy: 0.589041095890411, Learning Rate: 0.01, N Estimators: 10, Max Depth: 3\n",
      "Dataset: match_data, New best acuracy: 0.6203522504892368, Learning Rate: 0.01, N Estimators: 10, Max Depth: 4\n",
      "Dataset: match_data, New best acuracy: 0.62426614481409, Learning Rate: 0.01, N Estimators: 150, Max Depth: 3\n",
      "Dataset: match_data, New best acuracy: 0.6301369863013698, Learning Rate: 0.01, N Estimators: 200, Max Depth: 3\n",
      "Dataset: match_data, New best acuracy: 0.6320939334637965, Learning Rate: 1, N Estimators: 50, Max Depth: 3\n",
      "Dataset: match_data, Test accuracy: 0.5831702544031311, Learning Rate: 1, N Estimators: 50, Max Depth: 3, Duration: 2135.5313436985016's\n",
      "Dataset: rounds_data, New best acuracy: 0.5731394354148845, Learning Rate: 0.01, N Estimators: 10, Max Depth: 1\n",
      "Dataset: rounds_data, New best acuracy: 0.6334473909324209, Learning Rate: 0.01, N Estimators: 10, Max Depth: 2\n",
      "Dataset: rounds_data, New best acuracy: 0.6582549187339607, Learning Rate: 0.01, N Estimators: 10, Max Depth: 3\n",
      "Dataset: rounds_data, New best acuracy: 0.6586826347305389, Learning Rate: 0.01, N Estimators: 10, Max Depth: 4\n",
      "Dataset: rounds_data, New best acuracy: 0.6941830624465355, Learning Rate: 0.01, N Estimators: 10, Max Depth: 5\n",
      "Dataset: rounds_data, New best acuracy: 0.7048759623609923, Learning Rate: 0.01, N Estimators: 10, Max Depth: 6\n",
      "Dataset: rounds_data, New best acuracy: 0.7211291702309667, Learning Rate: 0.01, N Estimators: 10, Max Depth: 7\n",
      "Dataset: rounds_data, New best acuracy: 0.7275449101796407, Learning Rate: 0.01, N Estimators: 10, Max Depth: 8\n",
      "Dataset: rounds_data, New best acuracy: 0.7309666381522669, Learning Rate: 0.01, N Estimators: 10, Max Depth: 9\n",
      "Dataset: rounds_data, New best acuracy: 0.7403763900769889, Learning Rate: 0.01, N Estimators: 10, Max Depth: 10\n",
      "Dataset: rounds_data, New best acuracy: 0.7596236099230111, Learning Rate: 0.01, N Estimators: 50, Max Depth: 6\n",
      "Dataset: rounds_data, New best acuracy: 0.7643284858853722, Learning Rate: 0.01, N Estimators: 50, Max Depth: 8\n",
      "Dataset: rounds_data, New best acuracy: 0.7703165098374679, Learning Rate: 0.01, N Estimators: 50, Max Depth: 9\n",
      "Dataset: rounds_data, New best acuracy: 0.7775876817792986, Learning Rate: 0.01, N Estimators: 50, Max Depth: 10\n",
      "Dataset: rounds_data, New best acuracy: 0.77972626176219, Learning Rate: 0.01, N Estimators: 100, Max Depth: 9\n",
      "Dataset: rounds_data, New best acuracy: 0.7972626176218991, Learning Rate: 0.01, N Estimators: 100, Max Depth: 10\n",
      "Dataset: rounds_data, New best acuracy: 0.8006843455945253, Learning Rate: 0.01, N Estimators: 150, Max Depth: 10\n",
      "Dataset: rounds_data, New best acuracy: 0.8075278015397775, Learning Rate: 0.01, N Estimators: 200, Max Depth: 10\n",
      "Dataset: rounds_data, New best acuracy: 0.8169375534644996, Learning Rate: 0.01, N Estimators: 300, Max Depth: 10\n",
      "Dataset: rounds_data, New best acuracy: 0.8190761334473909, Learning Rate: 0.03, N Estimators: 300, Max Depth: 10\n",
      "Dataset: rounds_data, New best acuracy: 0.8229255774165953, Learning Rate: 0.1, N Estimators: 150, Max Depth: 9\n",
      "Dataset: rounds_data, Test accuracy: 0.8249893025246042, Learning Rate: 0.1, N Estimators: 150, Max Depth: 9, Duration: 26777.989149808884's\n",
      "Dataset: rounds_data_with_stats, New best acuracy: 0.5731394354148845, Learning Rate: 0.01, N Estimators: 10, Max Depth: 1\n",
      "Dataset: rounds_data_with_stats, New best acuracy: 0.6334473909324209, Learning Rate: 0.01, N Estimators: 10, Max Depth: 2\n",
      "Dataset: rounds_data_with_stats, New best acuracy: 0.6582549187339607, Learning Rate: 0.01, N Estimators: 10, Max Depth: 3\n",
      "Dataset: rounds_data_with_stats, New best acuracy: 0.6586826347305389, Learning Rate: 0.01, N Estimators: 10, Max Depth: 4\n",
      "Dataset: rounds_data_with_stats, New best acuracy: 0.7018819503849444, Learning Rate: 0.01, N Estimators: 10, Max Depth: 5\n",
      "Dataset: rounds_data_with_stats, New best acuracy: 0.7142857142857143, Learning Rate: 0.01, N Estimators: 10, Max Depth: 7\n",
      "Dataset: rounds_data_with_stats, New best acuracy: 0.7382378100940975, Learning Rate: 0.01, N Estimators: 10, Max Depth: 8\n",
      "Dataset: rounds_data_with_stats, New best acuracy: 0.7446535500427716, Learning Rate: 0.01, N Estimators: 10, Max Depth: 10\n",
      "Dataset: rounds_data_with_stats, New best acuracy: 0.7553464499572284, Learning Rate: 0.01, N Estimators: 50, Max Depth: 6\n",
      "Dataset: rounds_data_with_stats, New best acuracy: 0.7613344739093242, Learning Rate: 0.01, N Estimators: 50, Max Depth: 7\n",
      "Dataset: rounds_data_with_stats, New best acuracy: 0.7694610778443114, Learning Rate: 0.01, N Estimators: 50, Max Depth: 8\n",
      "Dataset: rounds_data_with_stats, New best acuracy: 0.7703165098374679, Learning Rate: 0.01, N Estimators: 50, Max Depth: 10\n",
      "Dataset: rounds_data_with_stats, New best acuracy: 0.7758768177929855, Learning Rate: 0.01, N Estimators: 100, Max Depth: 8\n",
      "Dataset: rounds_data_with_stats, New best acuracy: 0.7818648417450813, Learning Rate: 0.01, N Estimators: 100, Max Depth: 9\n",
      "Dataset: rounds_data_with_stats, New best acuracy: 0.7852865697177075, Learning Rate: 0.01, N Estimators: 150, Max Depth: 8\n",
      "Dataset: rounds_data_with_stats, New best acuracy: 0.7938408896492729, Learning Rate: 0.01, N Estimators: 150, Max Depth: 9\n",
      "Dataset: rounds_data_with_stats, New best acuracy: 0.7985457656116339, Learning Rate: 0.01, N Estimators: 200, Max Depth: 9\n",
      "Dataset: rounds_data_with_stats, New best acuracy: 0.804961505560308, Learning Rate: 0.01, N Estimators: 300, Max Depth: 8\n",
      "Dataset: rounds_data_with_stats, New best acuracy: 0.8062446535500428, Learning Rate: 0.01, N Estimators: 300, Max Depth: 9\n",
      "Dataset: rounds_data_with_stats, New best acuracy: 0.8092386655260907, Learning Rate: 0.01, N Estimators: 300, Max Depth: 10\n",
      "Dataset: rounds_data_with_stats, New best acuracy: 0.8126603934987169, Learning Rate: 0.03, N Estimators: 150, Max Depth: 9\n",
      "Dataset: rounds_data_with_stats, New best acuracy: 0.8135158254918734, Learning Rate: 0.05, N Estimators: 150, Max Depth: 10\n",
      "Dataset: rounds_data_with_stats, New best acuracy: 0.8143712574850299, Learning Rate: 0.05, N Estimators: 500, Max Depth: 10\n",
      "Dataset: rounds_data_with_stats, New best acuracy: 0.8165098374679213, Learning Rate: 0.05, N Estimators: 1000, Max Depth: 9\n",
      "Dataset: rounds_data_with_stats, Test accuracy: 0.8215661103979461, Learning Rate: 0.05, N Estimators: 1000, Max Depth: 9, Duration: 45708.88526582718's\n"
     ]
    }
   ],
   "source": [
    "best_params = []\n",
    "for X, y, ds_name in datasets:\n",
    "    X = StandardScaler().fit_transform(X)\n",
    "    X_train, X_test, y_train, y_test = train_test_split(X, y, test_size=0.4, random_state=42, stratify=y)\n",
    "    X_test, X_val, y_test, y_val = train_test_split(X_test, y_test, test_size=0.5, random_state=42, stratify=y_test)\n",
    "    best_acc = 0\n",
    "    best_lr = 0\n",
    "    best_n_est = 0\n",
    "    best_max_d = 0\n",
    "    start_time = time()\n",
    "    for lr in learning_rates:\n",
    "        for n_est in n_estimators:\n",
    "            for max_depth in max_depths:\n",
    "                model = AdaBoostClassifier(algorithm=\"SAMME\", n_estimators=n_est, learning_rate=lr, random_state=42, estimator=DecisionTreeClassifier(max_depth=max_depth))\n",
    "                model.fit(X_train, y_train)\n",
    "                y_pred = model.predict(X_val)\n",
    "                acc = accuracy_score(y_val, y_pred)\n",
    "                if acc > best_acc:\n",
    "                    print(f\"Dataset: {ds_name}, New best acuracy: {acc}, Learning Rate: {lr}, N Estimators: {n_est}, Max Depth: {max_depth}\")\n",
    "                    best_acc = acc\n",
    "                    best_lr = lr\n",
    "                    best_n_est = n_est\n",
    "                    best_max_d = max_depth\n",
    "    \n",
    "    model = AdaBoostClassifier(algorithm=\"SAMME\", n_estimators=best_n_est, learning_rate=best_lr, random_state=42, estimator=DecisionTreeClassifier(max_depth=best_max_d))\n",
    "    model.fit(X_train, y_train)\n",
    "    y_pred = model.predict(X_test)\n",
    "    acc = accuracy_score(y_test, y_pred)\n",
    "    end_time = time()\n",
    "    print(f\"Dataset: {ds_name}, Test accuracy: {acc}, Learning Rate: {best_lr}, N Estimators: {best_n_est}, Max Depth: {best_max_d}, Duration: {end_time - start_time}'s\")\n",
    "    best_params.append((ds_name, best_lr, best_n_est, best_max_d, acc))"
   ]
  },
  {
   "cell_type": "code",
   "execution_count": 9,
   "metadata": {},
   "outputs": [
    {
     "name": "stdout",
     "output_type": "stream",
     "text": [
      "Dataset: match_data, Test accuracy: 0.5831702544031311, Learning Rate: 1, N Estimators: 50, Max Depth: 3\n",
      "Dataset: rounds_data, Test accuracy: 0.8249893025246042, Learning Rate: 0.1, N Estimators: 150, Max Depth: 9\n",
      "Dataset: rounds_data_with_stats, Test accuracy: 0.8215661103979461, Learning Rate: 0.05, N Estimators: 1000, Max Depth: 9\n"
     ]
    }
   ],
   "source": [
    "for ds_name, best_lr, best_n_est, best_max_d, acc in best_params:\n",
    "    print(f\"Dataset: {ds_name}, Test accuracy: {acc}, Learning Rate: {best_lr}, N Estimators: {best_n_est}, Max Depth: {best_max_d}\")"
   ]
  }
 ],
 "metadata": {
  "kernelspec": {
   "display_name": "venv",
   "language": "python",
   "name": "python3"
  },
  "language_info": {
   "codemirror_mode": {
    "name": "ipython",
    "version": 3
   },
   "file_extension": ".py",
   "mimetype": "text/x-python",
   "name": "python",
   "nbconvert_exporter": "python",
   "pygments_lexer": "ipython3",
   "version": "3.11.7"
  }
 },
 "nbformat": 4,
 "nbformat_minor": 2
}

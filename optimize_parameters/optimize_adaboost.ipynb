{
 "cells": [
  {
   "cell_type": "code",
   "execution_count": 3,
   "metadata": {},
   "outputs": [],
   "source": [
    "import numpy as np\n",
    "import pandas as pd\n",
    "from sklearn.ensemble import AdaBoostClassifier\n",
    "from sklearn.tree import DecisionTreeClassifier\n",
    "from sklearn.preprocessing import StandardScaler\n",
    "from sklearn.model_selection import train_test_split\n",
    "from sklearn.metrics import accuracy_score, log_loss\n",
    "from time import time"
   ]
  },
  {
   "cell_type": "code",
   "execution_count": 6,
   "metadata": {},
   "outputs": [],
   "source": [
    "df1 = pd.read_csv('../data/match_data.csv')\n",
    "X1 = df1.drop(columns=['Date', 'Team1', 'Team2', 'Score'])\n",
    "y1 = df1['Score']\n",
    "ds1_name = \"match_data\"\n",
    "\n",
    "df2 = pd.read_csv('../data/cleaned_rounds_data.csv')\n",
    "df2 = df2.drop(columns=[f'player_{i}_{suffix}' for i in range(1, 11) for suffix in ['team_name', 'name']])\n",
    "X2 = df2.drop(['round_winner'], axis=1)\n",
    "y2 = df2['round_winner']\n",
    "ds2_name = \"rounds_data\"\n",
    "\n",
    "df3 = pd.read_csv('../data/cleaned_rounds_data_with_stats.csv')\n",
    "df3 = df3.drop(columns=[f'player_{i}_{suffix}' for i in range(1, 11) for suffix in ['team_name', 'name']])\n",
    "X3 = df3.drop(columns=['round_winner'])\n",
    "y3 = df3['round_winner']\n",
    "ds3_name = \"rounds_data_with_stats\"\n",
    "\n",
    "datasets = [(X1, y1, ds1_name), (X2, y2, ds2_name), (X3, y3, ds3_name)]"
   ]
  },
  {
   "cell_type": "code",
   "execution_count": 7,
   "metadata": {},
   "outputs": [],
   "source": [
    "learning_rates = [0.01, 0.03, 0.05, 0.07, 0.1 ,0.3, 0.5, 0.7, 1]\n",
    "max_depths = [1, 2, 3, 4, 5, 6, 7, 8, 9, 10]"
   ]
  },
  {
   "cell_type": "code",
   "execution_count": 12,
   "metadata": {},
   "outputs": [
    {
     "name": "stdout",
     "output_type": "stream",
     "text": [
      "Dataset: match_data, New best acuracy: 0.6086105675146771, Learning Rate: 0.01, N Estimators: 149, Max Depth: 1\n",
      "Dataset: match_data, New best acuracy: 0.62426614481409, Learning Rate: 0.01, N Estimators: 150, Max Depth: 3\n",
      "Dataset: match_data, New best acuracy: 0.6281800391389433, Learning Rate: 0.05, N Estimators: 150, Max Depth: 2\n",
      "Dataset: match_data, Test accuracy: 0.62426614481409, Learning Rate: 0.05, N Estimators: 150, Max Depth: 2, Duration: 120.34997701644897's\n",
      "Dataset: rounds_data, New best acuracy: 0.5885372112917023, Learning Rate: 0.01, N Estimators: 150, Max Depth: 1\n",
      "Dataset: rounds_data, New best acuracy: 0.7335329341317365, Learning Rate: 0.01, N Estimators: 150, Max Depth: 2\n",
      "Dataset: rounds_data, New best acuracy: 0.7583404619332763, Learning Rate: 0.01, N Estimators: 150, Max Depth: 3\n",
      "Dataset: rounds_data, New best acuracy: 0.760906757912746, Learning Rate: 0.01, N Estimators: 150, Max Depth: 5\n",
      "Dataset: rounds_data, New best acuracy: 0.7720273738237811, Learning Rate: 0.01, N Estimators: 150, Max Depth: 6\n",
      "Dataset: rounds_data, New best acuracy: 0.7784431137724551, Learning Rate: 0.01, N Estimators: 149, Max Depth: 7\n",
      "Dataset: rounds_data, New best acuracy: 0.77972626176219, Learning Rate: 0.01, N Estimators: 142, Max Depth: 8\n",
      "Dataset: rounds_data, New best acuracy: 0.8006843455945253, Learning Rate: 0.01, N Estimators: 143, Max Depth: 10\n",
      "Dataset: rounds_data, New best acuracy: 0.80196749358426, Learning Rate: 0.03, N Estimators: 68, Max Depth: 9\n",
      "Dataset: rounds_data, New best acuracy: 0.8169375534644996, Learning Rate: 0.03, N Estimators: 43, Max Depth: 10\n",
      "Dataset: rounds_data, New best acuracy: 0.8229255774165953, Learning Rate: 0.1, N Estimators: 22, Max Depth: 9\n",
      "Dataset: rounds_data, Test accuracy: 0.8061617458279846, Learning Rate: 0.1, N Estimators: 22, Max Depth: 9, Duration: 1800.7936730384827's\n",
      "Dataset: rounds_data_with_stats, New best acuracy: 0.5885372112917023, Learning Rate: 0.01, N Estimators: 150, Max Depth: 1\n",
      "Dataset: rounds_data_with_stats, New best acuracy: 0.7335329341317365, Learning Rate: 0.01, N Estimators: 150, Max Depth: 2\n",
      "Dataset: rounds_data_with_stats, New best acuracy: 0.7557741659538066, Learning Rate: 0.01, N Estimators: 150, Max Depth: 3\n",
      "Dataset: rounds_data_with_stats, New best acuracy: 0.760906757912746, Learning Rate: 0.01, N Estimators: 149, Max Depth: 4\n",
      "Dataset: rounds_data_with_stats, New best acuracy: 0.7634730538922155, Learning Rate: 0.01, N Estimators: 150, Max Depth: 5\n",
      "Dataset: rounds_data_with_stats, New best acuracy: 0.7664670658682635, Learning Rate: 0.01, N Estimators: 150, Max Depth: 6\n",
      "Dataset: rounds_data_with_stats, New best acuracy: 0.7728828058169376, Learning Rate: 0.01, N Estimators: 150, Max Depth: 7\n",
      "Dataset: rounds_data_with_stats, New best acuracy: 0.7852865697177075, Learning Rate: 0.01, N Estimators: 150, Max Depth: 8\n",
      "Dataset: rounds_data_with_stats, New best acuracy: 0.7938408896492729, Learning Rate: 0.01, N Estimators: 150, Max Depth: 9\n",
      "Dataset: rounds_data_with_stats, New best acuracy: 0.800256629597947, Learning Rate: 0.03, N Estimators: 73, Max Depth: 8\n",
      "Dataset: rounds_data_with_stats, New best acuracy: 0.8126603934987169, Learning Rate: 0.03, N Estimators: 70, Max Depth: 9\n",
      "Dataset: rounds_data_with_stats, New best acuracy: 0.8135158254918734, Learning Rate: 0.05, N Estimators: 52, Max Depth: 10\n",
      "Dataset: rounds_data_with_stats, Test accuracy: 0.8160034231921267, Learning Rate: 0.05, N Estimators: 52, Max Depth: 10, Duration: 2802.9480135440826's\n"
     ]
    }
   ],
   "source": [
    "best_params = []\n",
    "for X, y, ds_name in datasets:\n",
    "    X = StandardScaler().fit_transform(X)\n",
    "    X_train, X_test, y_train, y_test = train_test_split(X, y, test_size=0.4, random_state=42, stratify=y)\n",
    "    X_test, X_val, y_test, y_val = train_test_split(X_test, y_test, test_size=0.5, random_state=42, stratify=y_test)\n",
    "    best_acc = 0\n",
    "    best_lr = 0\n",
    "    best_n_est = 0\n",
    "    best_max_d = 0\n",
    "    start_time = time()\n",
    "    for lr in learning_rates:\n",
    "        for max_depth in max_depths:\n",
    "            model = AdaBoostClassifier(algorithm=\"SAMME\", n_estimators=150, learning_rate=lr, random_state=42, estimator=DecisionTreeClassifier(max_depth=max_depth))\n",
    "            model.fit(X_train, y_train)\n",
    "            y_pred = model.predict(X_val)\n",
    "            acc = accuracy_score(y_val, y_pred)\n",
    "            if acc > best_acc:\n",
    "                best_acc = acc\n",
    "                best_lr = lr\n",
    "                best_max_d = max_depth\n",
    "                log_losses = []\n",
    "                for y_prob in model.staged_predict_proba(X_train):\n",
    "                    log_losses.append(log_loss(y_train, y_prob, labels=[0, 1]))\n",
    "                best_n_est = np.argmin(log_losses) + 1\n",
    "                print(f\"Dataset: {ds_name}, New best acuracy: {acc}, Learning Rate: {lr}, N Estimators: {best_n_est}, Max Depth: {max_depth}\")\n",
    "    \n",
    "    model = AdaBoostClassifier(algorithm=\"SAMME\", n_estimators=best_n_est, learning_rate=best_lr, random_state=42, estimator=DecisionTreeClassifier(max_depth=best_max_d))\n",
    "    model.fit(X_train, y_train)\n",
    "    y_pred = model.predict(X_test)\n",
    "    acc = accuracy_score(y_test, y_pred)\n",
    "    end_time = time()\n",
    "    print(f\"Dataset: {ds_name}, Test accuracy: {acc}, Learning Rate: {best_lr}, N Estimators: {best_n_est}, Max Depth: {best_max_d}, Duration: {end_time - start_time}'s\")\n",
    "    best_params.append((ds_name, best_lr, best_n_est, best_max_d, acc))"
   ]
  },
  {
   "cell_type": "code",
   "execution_count": 14,
   "metadata": {},
   "outputs": [
    {
     "name": "stdout",
     "output_type": "stream",
     "text": [
      "Dataset: match_data, Test accuracy: 0.62426614481409, Learning Rate: 0.05, N Estimators: 150, Max Depth: 2\n",
      "Dataset: rounds_data, Test accuracy: 0.8061617458279846, Learning Rate: 0.1, N Estimators: 22, Max Depth: 9\n",
      "Dataset: rounds_data_with_stats, Test accuracy: 0.8160034231921267, Learning Rate: 0.05, N Estimators: 52, Max Depth: 10\n"
     ]
    }
   ],
   "source": [
    "for ds_name, best_lr, best_n_est, best_max_d, acc in best_params:\n",
    "    print(f\"Dataset: {ds_name}, Test accuracy: {acc}, Learning Rate: {best_lr}, N Estimators: {best_n_est}, Max Depth: {best_max_d}\")"
   ]
  }
 ],
 "metadata": {
  "kernelspec": {
   "display_name": "venv",
   "language": "python",
   "name": "python3"
  },
  "language_info": {
   "codemirror_mode": {
    "name": "ipython",
    "version": 3
   },
   "file_extension": ".py",
   "mimetype": "text/x-python",
   "name": "python",
   "nbconvert_exporter": "python",
   "pygments_lexer": "ipython3",
   "version": "3.11.7"
  }
 },
 "nbformat": 4,
 "nbformat_minor": 2
}

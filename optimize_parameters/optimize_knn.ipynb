{
 "cells": [
  {
   "cell_type": "code",
   "execution_count": 1,
   "metadata": {},
   "outputs": [],
   "source": [
    "import pandas as pd\n",
    "import numpy as np\n",
    "import matplotlib.pyplot as plt\n",
    "from sklearn.metrics import accuracy_score\n",
    "from sklearn.preprocessing import StandardScaler\n",
    "from sklearn.model_selection import train_test_split\n",
    "from time import time"
   ]
  },
  {
   "cell_type": "code",
   "execution_count": 2,
   "metadata": {},
   "outputs": [],
   "source": [
    "def euclidean_distance(x1, x2):\n",
    "    return np.sqrt(np.sum((x1 - x2) ** 2))"
   ]
  },
  {
   "cell_type": "code",
   "execution_count": 5,
   "metadata": {},
   "outputs": [],
   "source": [
    "class KNN:\n",
    "    def __init__(self, k=5):\n",
    "        self.k = k\n",
    "\n",
    "    def fit(self, X_train, y_train):\n",
    "        self.X_train = X_train\n",
    "        self.y_train = y_train\n",
    "\n",
    "    def predict(self, x):\n",
    "        distances = [euclidean_distance(x, x_train) for x_train in self.X_train]\n",
    "        k_indices = np.argsort(distances)[:self.k]\n",
    "        k_nearest_labels = [self.y_train[i] for i in k_indices]\n",
    "        most_common = np.bincount(k_nearest_labels).argmax()\n",
    "        return most_common"
   ]
  },
  {
   "cell_type": "code",
   "execution_count": 3,
   "metadata": {},
   "outputs": [],
   "source": [
    "df1 = pd.read_csv('../data/match_data.csv')\n",
    "X1 = df1.drop(columns=['Date', 'Team1', 'Team2', 'Score'])\n",
    "y1 = df1['Score']\n",
    "ds1_name = \"match_data\"\n",
    "\n",
    "df2 = pd.read_csv('../data/cleaned_rounds_data.csv')\n",
    "df2 = df2.drop(columns=[f'player_{i}_{suffix}' for i in range(1, 11) for suffix in ['team_name', 'name']])\n",
    "X2 = df2.drop(['round_winner'], axis=1)\n",
    "y2 = df2['round_winner']\n",
    "ds2_name = \"rounds_data\"\n",
    "\n",
    "df3 = pd.read_csv('../data/cleaned_rounds_data_with_stats.csv')\n",
    "df3 = df3.drop(columns=[f'player_{i}_{suffix}' for i in range(1, 11) for suffix in ['team_name', 'name']])\n",
    "X3 = df3.drop(columns=['round_winner'])\n",
    "y3 = df3['round_winner']\n",
    "ds3_name = \"rounds_data_with_stats\"\n",
    "\n",
    "datasets = [(X1, y1, ds1_name), (X2, y2, ds2_name), (X3, y3, ds3_name)]"
   ]
  },
  {
   "cell_type": "code",
   "execution_count": 7,
   "metadata": {},
   "outputs": [
    {
     "name": "stdout",
     "output_type": "stream",
     "text": [
      "For dataset: match_data, New best accuracy: 0.5949119373776908, K: 5\n",
      "For dataset: match_data, Best K: 5, Accuracy: 0.5557729941291585, Duration: 50.23921465873718\n",
      "For dataset: rounds_data, New best accuracy: 0.688622754491018, K: 5\n",
      "For dataset: rounds_data, New best accuracy: 0.6988879384088965, K: 7\n",
      "For dataset: rounds_data, New best accuracy: 0.7095808383233533, K: 10\n",
      "For dataset: rounds_data, New best accuracy: 0.7198460222412318, K: 20\n",
      "For dataset: rounds_data, New best accuracy: 0.7301112061591104, K: 30\n",
      "For dataset: rounds_data, New best accuracy: 0.7425149700598802, K: 45\n",
      "For dataset: rounds_data, Best K: 45, Accuracy: 0.7539580658964484, Duration: 1230.824372291565\n",
      "For dataset: rounds_data_with_stats, New best accuracy: 0.6723695466210436, K: 5\n",
      "For dataset: rounds_data_with_stats, New best accuracy: 0.6864841745081266, K: 7\n",
      "For dataset: rounds_data_with_stats, New best accuracy: 0.7005988023952096, K: 10\n",
      "For dataset: rounds_data_with_stats, New best accuracy: 0.7108639863130881, K: 20\n",
      "For dataset: rounds_data_with_stats, New best accuracy: 0.7228400342172797, K: 25\n",
      "For dataset: rounds_data_with_stats, New best accuracy: 0.7395209580838323, K: 40\n",
      "For dataset: rounds_data_with_stats, Best K: 40, Accuracy: 0.7458279845956355, Duration: 1208.9933516979218\n"
     ]
    }
   ],
   "source": [
    "K = [5, 7, 10, 15, 20, 25, 30, 35, 40, 45, 50, 55, 60]\n",
    "best_params = []\n",
    "for X, y, ds_name in datasets:\n",
    "    y = y.to_numpy()\n",
    "    X = StandardScaler().fit_transform(X)\n",
    "    X_train, X_test, y_train, y_test = train_test_split(X, y, test_size=0.4, random_state=42, stratify=y)\n",
    "    X_test, X_val, y_test, y_val = train_test_split(X_test, y_test, test_size=0.5, random_state=42, stratify=y_test)\n",
    "    best_k = 0\n",
    "    best_acc = 0\n",
    "    start_time = time()\n",
    "    for k in K:\n",
    "        knn = KNN(k=k)\n",
    "        knn.fit(X_train, y_train)\n",
    "        y_pred = [knn.predict(x) for x in X_val]\n",
    "        acc = accuracy_score(y_val, y_pred)\n",
    "        if acc - best_acc > 0.01:\n",
    "            print(f'For dataset: {ds_name}, New best accuracy: {acc}, K: {k}')\n",
    "            best_acc = acc\n",
    "            best_k = k\n",
    "\n",
    "    knn = KNN(k=best_k)\n",
    "    knn.fit(X_train, y_train)\n",
    "    y_pred = [knn.predict(x) for x in X_test]\n",
    "    acc = accuracy_score(y_test, y_pred)\n",
    "    end_time = time()\n",
    "    best_params.append((ds_name, best_k, acc))\n",
    "    print(f'For dataset: {ds_name}, Best K: {best_k}, Accuracy: {acc}, Duration: {end_time - start_time}')\n"
   ]
  },
  {
   "cell_type": "code",
   "execution_count": 8,
   "metadata": {},
   "outputs": [
    {
     "name": "stdout",
     "output_type": "stream",
     "text": [
      "For dataset: match_data, Best K: 5, Accuracy: 0.5557729941291585\n",
      "For dataset: rounds_data, Best K: 45, Accuracy: 0.7539580658964484\n",
      "For dataset: rounds_data_with_stats, Best K: 40, Accuracy: 0.7458279845956355\n"
     ]
    }
   ],
   "source": [
    "for ds_name, best_k, accuracy in best_params:\n",
    "    print(f'For dataset: {ds_name}, Best K: {best_k}, Accuracy: {accuracy}')"
   ]
  }
 ],
 "metadata": {
  "kernelspec": {
   "display_name": "venv",
   "language": "python",
   "name": "python3"
  },
  "language_info": {
   "codemirror_mode": {
    "name": "ipython",
    "version": 3
   },
   "file_extension": ".py",
   "mimetype": "text/x-python",
   "name": "python",
   "nbconvert_exporter": "python",
   "pygments_lexer": "ipython3",
   "version": "3.11.7"
  }
 },
 "nbformat": 4,
 "nbformat_minor": 2
}

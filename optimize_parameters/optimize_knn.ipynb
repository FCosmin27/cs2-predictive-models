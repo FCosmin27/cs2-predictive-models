{
 "cells": [
  {
   "cell_type": "code",
   "execution_count": 2,
   "metadata": {},
   "outputs": [],
   "source": [
    "import pandas as pd\n",
    "import numpy as np\n",
    "import matplotlib.pyplot as plt\n",
    "from sklearn import metrics\n",
    "from sklearn.preprocessing import StandardScaler\n",
    "from sklearn.model_selection import train_test_split"
   ]
  },
  {
   "cell_type": "code",
   "execution_count": 3,
   "metadata": {},
   "outputs": [],
   "source": [
    "def euclidean_distance(x1, x2):\n",
    "    return np.sqrt(np.sum((x1 - x2) ** 2))"
   ]
  },
  {
   "cell_type": "code",
   "execution_count": 4,
   "metadata": {},
   "outputs": [],
   "source": [
    "class KNN:\n",
    "    def __init__(self, k=5):\n",
    "        self.k = k\n",
    "\n",
    "    def fit(self, X_train, y_train):\n",
    "        self.X_train = X_train\n",
    "        self.y_train = y_train\n",
    "\n",
    "    def predict(self, x):\n",
    "        distances = [euclidean_distance(x, x_train) for x_train in self.X_train]\n",
    "        k_indices = np.argsort(distances)[:self.k]\n",
    "        k_nearest_labels = [self.y_train[i] for i in k_indices]\n",
    "        most_common = np.bincount(k_nearest_labels).argmax()\n",
    "        return most_common"
   ]
  },
  {
   "cell_type": "code",
   "execution_count": 7,
   "metadata": {},
   "outputs": [],
   "source": [
    "df1 = pd.read_csv('../data/match_data.csv')\n",
    "X1 = df1.drop(columns=['Date', 'Team1', 'Team2', 'Score'])\n",
    "y1 = df1['Score']\n",
    "ds1_name = \"match_data\"\n",
    "\n",
    "df2 = pd.read_csv('../data/cleaned_rounds_data.csv')\n",
    "df2 = df2.drop(columns=[f'player_{i}_{suffix}' for i in range(1, 11) for suffix in ['team_name', 'name']])\n",
    "X2 = df2.drop(['round_winner'], axis=1)\n",
    "y2 = df2['round_winner']\n",
    "ds2_name = \"rounds_data\"\n",
    "\n",
    "df3 = pd.read_csv('../data/cleaned_rounds_data_with_stats.csv')\n",
    "df3 = df3.drop(columns=[f'player_{i}_{suffix}' for i in range(1, 11) for suffix in ['team_name', 'name']])\n",
    "X3 = df3.drop(columns=['round_winner'])\n",
    "y3 = df3['round_winner']\n",
    "ds3_name = \"rounds_data_with_stats\"\n",
    "\n",
    "datasets = [(X1, y1, ds1_name), (X2, y2, ds2_name), (X3, y3, ds3_name)]"
   ]
  },
  {
   "cell_type": "code",
   "execution_count": 8,
   "metadata": {},
   "outputs": [
    {
     "name": "stdout",
     "output_type": "stream",
     "text": [
      "For dataset: match_data, K: 5, Accuracy: 0.5949119373776908\n",
      "For dataset: match_data, K: 10, Accuracy: 0.5557729941291585\n",
      "For dataset: match_data, K: 20, Accuracy: 0.5753424657534246\n",
      "For dataset: match_data, K: 30, Accuracy: 0.5772994129158513\n",
      "For dataset: match_data, K: 40, Accuracy: 0.5831702544031311\n",
      "For dataset: match_data, K: 50, Accuracy: 0.5518590998043053\n",
      "For dataset: match_data, K: 60, Accuracy: 0.5557729941291585\n",
      "For dataset: match_data, K: 70, Accuracy: 0.5518590998043053\n",
      "For dataset: match_data, K: 80, Accuracy: 0.5616438356164384\n",
      "For dataset: match_data, K: 90, Accuracy: 0.5538160469667319\n",
      "For dataset: match_data, K: 100, Accuracy: 0.5675146771037182\n",
      "For dataset: match_data, K: 150, Accuracy: 0.5596868884540117\n",
      "For dataset: match_data, K: 200, Accuracy: 0.5675146771037182\n",
      "For dataset: match_data, K: 250, Accuracy: 0.5577299412915852\n",
      "For dataset: match_data, K: 300, Accuracy: 0.547945205479452\n",
      "For dataset: match_data, K: 350, Accuracy: 0.5557729941291585\n",
      "For dataset: match_data, K: 400, Accuracy: 0.5655577299412916\n",
      "For dataset: match_data, K: 450, Accuracy: 0.5420743639921722\n",
      "For dataset: match_data, K: 500, Accuracy: 0.5518590998043053\n",
      "For dataset: match_data, Best K: 5, Accuracy: 0.5557729941291585\n",
      "For dataset: rounds_data, K: 5, Accuracy: 0.688622754491018\n",
      "For dataset: rounds_data, K: 10, Accuracy: 0.7095808383233533\n",
      "For dataset: rounds_data, K: 20, Accuracy: 0.7198460222412318\n",
      "For dataset: rounds_data, K: 30, Accuracy: 0.7301112061591104\n",
      "For dataset: rounds_data, K: 40, Accuracy: 0.7395209580838323\n",
      "For dataset: rounds_data, K: 50, Accuracy: 0.7446535500427716\n",
      "For dataset: rounds_data, K: 60, Accuracy: 0.7489307100085543\n",
      "For dataset: rounds_data, K: 70, Accuracy: 0.7532078699743371\n",
      "For dataset: rounds_data, K: 80, Accuracy: 0.7557741659538066\n",
      "For dataset: rounds_data, K: 90, Accuracy: 0.7527801539777588\n",
      "For dataset: rounds_data, K: 100, Accuracy: 0.7510692899914457\n",
      "For dataset: rounds_data, K: 150, Accuracy: 0.7549187339606501\n",
      "For dataset: rounds_data, K: 200, Accuracy: 0.7591958939264328\n",
      "For dataset: rounds_data, K: 250, Accuracy: 0.7557741659538066\n",
      "For dataset: rounds_data, K: 300, Accuracy: 0.7544910179640718\n",
      "For dataset: rounds_data, K: 350, Accuracy: 0.7557741659538066\n",
      "For dataset: rounds_data, K: 400, Accuracy: 0.7467921300256629\n",
      "For dataset: rounds_data, K: 450, Accuracy: 0.7476475620188195\n",
      "For dataset: rounds_data, K: 500, Accuracy: 0.7455089820359282\n",
      "For dataset: rounds_data, Best K: 200, Accuracy: 0.7697903294822422\n",
      "For dataset: rounds_data_with_stats, K: 5, Accuracy: 0.6723695466210436\n",
      "For dataset: rounds_data_with_stats, K: 10, Accuracy: 0.7005988023952096\n",
      "For dataset: rounds_data_with_stats, K: 20, Accuracy: 0.7108639863130881\n",
      "For dataset: rounds_data_with_stats, K: 30, Accuracy: 0.7288280581693756\n",
      "For dataset: rounds_data_with_stats, K: 40, Accuracy: 0.7395209580838323\n",
      "For dataset: rounds_data_with_stats, K: 50, Accuracy: 0.7408041060735672\n",
      "For dataset: rounds_data_with_stats, K: 60, Accuracy: 0.7408041060735672\n",
      "For dataset: rounds_data_with_stats, K: 70, Accuracy: 0.7425149700598802\n",
      "For dataset: rounds_data_with_stats, K: 80, Accuracy: 0.7395209580838323\n",
      "For dataset: rounds_data_with_stats, K: 90, Accuracy: 0.739093242087254\n",
      "For dataset: rounds_data_with_stats, K: 100, Accuracy: 0.7403763900769889\n",
      "For dataset: rounds_data_with_stats, K: 150, Accuracy: 0.7485029940119761\n",
      "For dataset: rounds_data_with_stats, K: 200, Accuracy: 0.7485029940119761\n",
      "For dataset: rounds_data_with_stats, K: 250, Accuracy: 0.7497861420017109\n",
      "For dataset: rounds_data_with_stats, K: 300, Accuracy: 0.7455089820359282\n",
      "For dataset: rounds_data_with_stats, K: 350, Accuracy: 0.7480752780153977\n",
      "For dataset: rounds_data_with_stats, K: 400, Accuracy: 0.7450812660393499\n",
      "For dataset: rounds_data_with_stats, K: 450, Accuracy: 0.7425149700598802\n",
      "For dataset: rounds_data_with_stats, K: 500, Accuracy: 0.737382378100941\n",
      "For dataset: rounds_data_with_stats, Best K: 250, Accuracy: 0.7603765511339324\n"
     ]
    }
   ],
   "source": [
    "K = [5, 10, 20, 30, 40, 50, 60, 70, 80, 90, 100, 150, 200, 250, 300, 350, 400, 450, 500]\n",
    "best_params = []\n",
    "for X, y, ds_name in datasets:\n",
    "    y = y.to_numpy()\n",
    "    X = StandardScaler().fit_transform(X)\n",
    "    X_train, X_test, y_train, y_test = train_test_split(X, y, test_size=0.4, random_state=42, stratify=y)\n",
    "    X_test, X_val, y_test, y_val = train_test_split(X_test, y_test, test_size=0.5, random_state=42, stratify=y_test)\n",
    "    best_k = 0\n",
    "    best_accuracy = 0\n",
    "    for k in K:\n",
    "        knn = KNN(k=k)\n",
    "        knn.fit(X_train, y_train)\n",
    "        y_pred = [knn.predict(x) for x in X_val]\n",
    "        print(f'For dataset: {ds_name}, K: {k}, Accuracy: {metrics.accuracy_score(y_val, y_pred)}')\n",
    "        if metrics.accuracy_score(y_val, y_pred) > best_accuracy:\n",
    "            best_accuracy = metrics.accuracy_score(y_val, y_pred)\n",
    "            best_k = k\n",
    "\n",
    "    knn = KNN(k=best_k)\n",
    "    knn.fit(X_train, y_train)\n",
    "    y_pred = [knn.predict(x) for x in X_test]\n",
    "    best_params.append((ds_name, best_k, metrics.accuracy_score(y_test, y_pred)))\n",
    "    print(f'For dataset: {ds_name}, Best K: {best_k}, Accuracy: {metrics.accuracy_score(y_test, y_pred)}')\n"
   ]
  },
  {
   "cell_type": "code",
   "execution_count": 10,
   "metadata": {},
   "outputs": [
    {
     "name": "stdout",
     "output_type": "stream",
     "text": [
      "For dataset: match_data, Best K: 5, Accuracy: 0.5557729941291585\n",
      "For dataset: rounds_data, Best K: 200, Accuracy: 0.7697903294822422\n",
      "For dataset: rounds_data_with_stats, Best K: 250, Accuracy: 0.7603765511339324\n"
     ]
    }
   ],
   "source": [
    "for ds_name, best_k, accuracy in best_params:\n",
    "    print(f'For dataset: {ds_name}, Best K: {best_k}, Accuracy: {accuracy}')"
   ]
  }
 ],
 "metadata": {
  "kernelspec": {
   "display_name": "venv",
   "language": "python",
   "name": "python3"
  },
  "language_info": {
   "codemirror_mode": {
    "name": "ipython",
    "version": 3
   },
   "file_extension": ".py",
   "mimetype": "text/x-python",
   "name": "python",
   "nbconvert_exporter": "python",
   "pygments_lexer": "ipython3",
   "version": "3.10.7"
  }
 },
 "nbformat": 4,
 "nbformat_minor": 2
}

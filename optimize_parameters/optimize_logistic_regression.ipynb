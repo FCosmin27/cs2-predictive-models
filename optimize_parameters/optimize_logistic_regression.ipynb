{
 "cells": [
  {
   "cell_type": "code",
   "execution_count": 2,
   "metadata": {},
   "outputs": [],
   "source": [
    "import pandas as pd\n",
    "import numpy as np\n",
    "import matplotlib.pyplot as plt\n",
    "from sklearn.metrics import accuracy_score\n",
    "from sklearn.preprocessing import StandardScaler\n",
    "from sklearn.model_selection import train_test_split\n",
    "from time import time"
   ]
  },
  {
   "cell_type": "code",
   "execution_count": 3,
   "metadata": {},
   "outputs": [],
   "source": [
    "def sigmoid(z):\n",
    "    \"\"\"Numerically stable sigmoid function.\"\"\"\n",
    "    z = np.clip(z, -500, 500)  # Limit z to avoid overflow\n",
    "    return np.where(z >= 0,\n",
    "                    1 / (1 + np.exp(-z)),\n",
    "                    np.exp(z) / (1 + np.exp(z)))"
   ]
  },
  {
   "cell_type": "code",
   "execution_count": 4,
   "metadata": {},
   "outputs": [],
   "source": [
    "def cross_entropy(y, y_pred):\n",
    "    epsilon = 1e-15\n",
    "    y_pred = np.clip(y_pred, epsilon, 1 - epsilon)\n",
    "    return -np.mean(y * np.log(y_pred) + (1 - y) * np.log(1 - y_pred))\n"
   ]
  },
  {
   "cell_type": "code",
   "execution_count": 5,
   "metadata": {},
   "outputs": [],
   "source": [
    "def compute_gradients(X, y, y_pred):\n",
    "    diff = y_pred - y\n",
    "    return np.dot(X.T, diff) / len(y)"
   ]
  },
  {
   "cell_type": "code",
   "execution_count": 6,
   "metadata": {},
   "outputs": [],
   "source": [
    "def initialize_weights(size):\n",
    "    std_dev = np.sqrt(2 / (size + 1))\n",
    "    return np.random.randn(size) * std_dev"
   ]
  },
  {
   "cell_type": "code",
   "execution_count": 8,
   "metadata": {},
   "outputs": [],
   "source": [
    "class LogisticRegression:\n",
    "    def __init__(self, lr=0.01, epochs=1000):\n",
    "        self.lr = lr\n",
    "        self.epochs = epochs\n",
    "\n",
    "    def fit(self, X_train, y_train):\n",
    "        self.weights = initialize_weights(X_train.shape[1])\n",
    "        self.losses = []\n",
    "\n",
    "        for _ in range(self.epochs):\n",
    "            y_pred = sigmoid(np.dot(X_train, self.weights))\n",
    "            loss = cross_entropy(y_train, y_pred)\n",
    "            self.losses.append(loss)\n",
    "\n",
    "            gradients = compute_gradients(X_train, y_train, y_pred)\n",
    "            self.weights -= self.lr * gradients\n",
    "\n",
    "    def predict_probabilities(self, X):\n",
    "        return sigmoid(np.dot(X, self.weights))\n",
    "        \n",
    "    def predict(self, X, threshold=0.5):\n",
    "        return self.predict_probabilities(X) >= threshold"
   ]
  },
  {
   "cell_type": "code",
   "execution_count": 9,
   "metadata": {},
   "outputs": [],
   "source": [
    "df1 = pd.read_csv('../data/match_data.csv')\n",
    "X1 = df1.drop(columns=['Date', 'Team1', 'Team2', 'Score'])\n",
    "y1 = df1['Score']\n",
    "ds1_name = \"match_data\"\n",
    "\n",
    "df2 = pd.read_csv('../data/cleaned_rounds_data.csv')\n",
    "df2 = df2.drop(columns=[f'player_{i}_{suffix}' for i in range(1, 11) for suffix in ['team_name', 'name']])\n",
    "X2 = df2.drop(['round_winner'], axis=1)\n",
    "y2 = df2['round_winner']\n",
    "ds2_name = \"rounds_data\"\n",
    "\n",
    "df3 = pd.read_csv('../data/cleaned_rounds_data_with_stats.csv')\n",
    "df3 = df3.drop(columns=[f'player_{i}_{suffix}' for i in range(1, 11) for suffix in ['team_name', 'name']])\n",
    "X3 = df3.drop(['round_winner'], axis=1)\n",
    "y3 = df3['round_winner']\n",
    "ds3_name = \"rounds_data_with_stats\"\n",
    "\n",
    "datasets = [(X1, y1, ds1_name), (X2, y2, ds2_name), (X3, y3, ds3_name)]"
   ]
  },
  {
   "cell_type": "code",
   "execution_count": 13,
   "metadata": {},
   "outputs": [
    {
     "name": "stdout",
     "output_type": "stream",
     "text": [
      "For dataset: match_data, new best accuracy: 0.5675146771037182, lr: 0.01, epochs: 100\n",
      "For dataset: match_data, new best accuracy: 0.5694716242661448, lr: 0.05, epochs: 100\n",
      "For dataset: match_data, new best accuracy: 0.6027397260273972, lr: 0.1, epochs: 100\n",
      "For dataset: match_data, new best accuracy: 0.6301369863013698, lr: 0.3, epochs: 100\n",
      "For dataset: match_data, new best accuracy: 0.6379647749510763, lr: 0.01, epochs: 800\n",
      "For dataset: match_data, new best accuracy: 0.6477495107632094, lr: 0.01, epochs: 3000\n",
      "For dataset: match_data, Best lr: 0.01, Best epochs: 3000, Test accuracy: 0.6223091976516634, Duration: 337.0395143032074\n",
      "For dataset: rounds_data, new best accuracy: 0.6441402908468776, lr: 0.01, epochs: 100\n",
      "For dataset: rounds_data, new best accuracy: 0.7532078699743371, lr: 0.05, epochs: 100\n",
      "For dataset: rounds_data, new best accuracy: 0.7540633019674936, lr: 0.1, epochs: 100\n",
      "For dataset: rounds_data, new best accuracy: 0.7570573139435415, lr: 0.3, epochs: 100\n",
      "For dataset: rounds_data, new best accuracy: 0.7596236099230111, lr: 0.3, epochs: 200\n",
      "For dataset: rounds_data, new best accuracy: 0.7617621899059025, lr: 0.1, epochs: 300\n",
      "For dataset: rounds_data, new best accuracy: 0.7621899059024807, lr: 0.3, epochs: 400\n",
      "For dataset: rounds_data, new best accuracy: 0.7639007698887939, lr: 0.05, epochs: 500\n",
      "For dataset: rounds_data, new best accuracy: 0.7643284858853722, lr: 0.1, epochs: 700\n",
      "For dataset: rounds_data, new best accuracy: 0.7647562018819504, lr: 0.3, epochs: 2000\n",
      "For dataset: rounds_data, new best accuracy: 0.7651839178785287, lr: 0.3, epochs: 3000\n",
      "For dataset: rounds_data, Best lr: 0.3, Best epochs: 3000, Test accuracy: 0.7578091570389388, Duration: 1203.9134991168976\n",
      "For dataset: rounds_data_with_stats, new best accuracy: 0.636869118905047, lr: 0.01, epochs: 100\n",
      "For dataset: rounds_data_with_stats, new best accuracy: 0.7450812660393499, lr: 0.05, epochs: 100\n",
      "For dataset: rounds_data_with_stats, new best accuracy: 0.7613344739093242, lr: 0.1, epochs: 100\n",
      "For dataset: rounds_data_with_stats, new best accuracy: 0.76732249786142, lr: 0.3, epochs: 100\n",
      "For dataset: rounds_data_with_stats, new best accuracy: 0.7686056458511549, lr: 0.3, epochs: 400\n",
      "For dataset: rounds_data_with_stats, new best accuracy: 0.7690333618477331, lr: 0.05, epochs: 2500\n",
      "For dataset: rounds_data_with_stats, new best accuracy: 0.7720273738237811, lr: 0.01, epochs: 4500\n",
      "For dataset: rounds_data_with_stats, Best lr: 0.01, Best epochs: 4500, Test accuracy: 0.7569533590072742, Duration: 1318.867992401123\n"
     ]
    }
   ],
   "source": [
    "EPOCHS = [100, 200, 300, 400, 500, 600, 700, 800, 900, 1000, 1500, 2000, 2500, 3000, 3500, 4000, 4500, 5000]\n",
    "LR = [0.01, 0.05, 0.1, 0.3, 0.5, 1]\n",
    "best_params = []\n",
    "for X, y, ds_name in datasets:\n",
    "    X = StandardScaler().fit_transform(X)\n",
    "    X_train, X_test, y_train, y_test = train_test_split(X, y, test_size=0.4, random_state=42, stratify=y)\n",
    "    X_test, X_val, y_test, y_val = train_test_split(X_test, y_test, test_size=0.5, random_state=42, stratify=y_test)\n",
    "    best_acc = 0\n",
    "    best_lr = 0\n",
    "    best_epochs = 0\n",
    "    start_time = time()\n",
    "    for epochs in EPOCHS:\n",
    "        for lr in LR:\n",
    "            model = LogisticRegression(lr=lr, epochs=epochs)\n",
    "            model.fit(X, y)\n",
    "            y_pred = model.predict(X_val)\n",
    "            acc = accuracy_score(y_val, y_pred)\n",
    "            if acc > best_acc:\n",
    "                print(f\"For dataset: {ds_name}, new best accuracy: {acc}, lr: {lr}, epochs: {epochs}\")\n",
    "                best_acc = acc\n",
    "                best_lr = lr\n",
    "                best_epochs = epochs\n",
    "    \n",
    "    model = LogisticRegression(lr=best_lr, epochs=best_epochs)\n",
    "    model.fit(X_train, y_train)\n",
    "    y_pred = model.predict(X_test)\n",
    "    end_time = time()\n",
    "    acc = accuracy_score(y_test, y_pred)\n",
    "    print(f\"For dataset: {ds_name}, Best lr: {best_lr}, Best epochs: {best_epochs}, Test accuracy: {acc}, Duration: {end_time - start_time}\")\n",
    "    best_params.append((ds_name, best_lr, best_epochs, acc))"
   ]
  },
  {
   "cell_type": "code",
   "execution_count": 14,
   "metadata": {},
   "outputs": [
    {
     "name": "stdout",
     "output_type": "stream",
     "text": [
      "Dataset: match_data, Best lr: 0.01, Best epochs: 3000, Accuracy: 0.6223091976516634\n",
      "Dataset: rounds_data, Best lr: 0.3, Best epochs: 3000, Accuracy: 0.7578091570389388\n",
      "Dataset: rounds_data_with_stats, Best lr: 0.01, Best epochs: 4500, Accuracy: 0.7569533590072742\n"
     ]
    }
   ],
   "source": [
    "for ds_name, lr, epochs, accuracy in best_params:\n",
    "    print(f\"Dataset: {ds_name}, Best lr: {lr}, Best epochs: {epochs}, Accuracy: {accuracy}\")"
   ]
  }
 ],
 "metadata": {
  "kernelspec": {
   "display_name": "venv",
   "language": "python",
   "name": "python3"
  },
  "language_info": {
   "codemirror_mode": {
    "name": "ipython",
    "version": 3
   },
   "file_extension": ".py",
   "mimetype": "text/x-python",
   "name": "python",
   "nbconvert_exporter": "python",
   "pygments_lexer": "ipython3",
   "version": "3.10.7"
  }
 },
 "nbformat": 4,
 "nbformat_minor": 2
}

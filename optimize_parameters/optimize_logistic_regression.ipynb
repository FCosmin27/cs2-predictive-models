{
 "cells": [
  {
   "cell_type": "code",
   "execution_count": 13,
   "metadata": {},
   "outputs": [],
   "source": [
    "import pandas as pd\n",
    "import numpy as np\n",
    "import matplotlib.pyplot as plt\n",
    "from sklearn.metrics import accuracy_score\n",
    "from sklearn.preprocessing import StandardScaler\n",
    "from sklearn.model_selection import train_test_split\n",
    "from time import time"
   ]
  },
  {
   "cell_type": "code",
   "execution_count": 14,
   "metadata": {},
   "outputs": [],
   "source": [
    "def sigmoid(z):\n",
    "    \"\"\"Numerically stable sigmoid function.\"\"\"\n",
    "    z = np.clip(z, -500, 500)  # Limit z to avoid overflow\n",
    "    return np.where(z >= 0,\n",
    "                    1 / (1 + np.exp(-z)),\n",
    "                    np.exp(z) / (1 + np.exp(z)))"
   ]
  },
  {
   "cell_type": "code",
   "execution_count": 15,
   "metadata": {},
   "outputs": [],
   "source": [
    "def cross_entropy(y, y_pred):\n",
    "    epsilon = 1e-15\n",
    "    y_pred = np.clip(y_pred, epsilon, 1 - epsilon)\n",
    "    return -np.mean(y * np.log(y_pred) + (1 - y) * np.log(1 - y_pred))\n"
   ]
  },
  {
   "cell_type": "code",
   "execution_count": 16,
   "metadata": {},
   "outputs": [],
   "source": [
    "def compute_gradients(X, y, y_pred):\n",
    "    diff = y_pred - y\n",
    "    return np.dot(X.T, diff) / len(y)"
   ]
  },
  {
   "cell_type": "code",
   "execution_count": 17,
   "metadata": {},
   "outputs": [],
   "source": [
    "def initialize_weights(size):\n",
    "    std_dev = np.sqrt(2 / (size + 1))\n",
    "    return np.random.randn(size) * std_dev"
   ]
  },
  {
   "cell_type": "code",
   "execution_count": 18,
   "metadata": {},
   "outputs": [],
   "source": [
    "class LogisticRegression:\n",
    "    def __init__(self, lr=0.01, epochs=1000):\n",
    "        self.lr = lr\n",
    "        self.epochs = epochs\n",
    "\n",
    "    def fit(self, X_train, y_train):\n",
    "        self.weights = initialize_weights(X_train.shape[1])\n",
    "        self.losses = []\n",
    "\n",
    "        for _ in range(self.epochs):\n",
    "            y_pred = sigmoid(np.dot(X_train, self.weights))\n",
    "            loss = cross_entropy(y_train, y_pred)\n",
    "            self.losses.append(loss)\n",
    "\n",
    "            gradients = compute_gradients(X_train, y_train, y_pred)\n",
    "            self.weights -= self.lr * gradients\n",
    "\n",
    "    def predict_probabilities(self, X):\n",
    "        return sigmoid(np.dot(X, self.weights))\n",
    "        \n",
    "    def predict(self, X, threshold=0.5):\n",
    "        return self.predict_probabilities(X) >= threshold"
   ]
  },
  {
   "cell_type": "code",
   "execution_count": 20,
   "metadata": {},
   "outputs": [],
   "source": [
    "df1 = pd.read_csv('../data/match_data.csv')\n",
    "X1 = df1.drop(columns=['Date', 'Team1', 'Team2', 'Score'])\n",
    "y1 = df1['Score']\n",
    "ds1_name = \"match_data\"\n",
    "\n",
    "df2 = pd.read_csv('../data/cleaned_rounds_data.csv')\n",
    "df2 = df2.drop(columns=[f'player_{i}_{suffix}' for i in range(1, 11) for suffix in ['team_name', 'name']])\n",
    "X2 = df2.drop(['round_winner'], axis=1)\n",
    "y2 = df2['round_winner']\n",
    "ds2_name = \"rounds_data\"\n",
    "\n",
    "df3 = pd.read_csv('../data/cleaned_rounds_data_with_stats.csv')\n",
    "df3 = df3.drop(columns=[f'player_{i}_{suffix}' for i in range(1, 11) for suffix in ['team_name', 'name']])\n",
    "X3 = df3.drop(['round_winner'], axis=1)\n",
    "y3 = df3['round_winner']\n",
    "ds3_name = \"rounds_data_with_stats\"\n",
    "\n",
    "datasets = [(X1, y1, ds1_name), (X2, y2, ds2_name), (X3, y3, ds3_name)]"
   ]
  },
  {
   "cell_type": "code",
   "execution_count": 23,
   "metadata": {},
   "outputs": [
    {
     "name": "stdout",
     "output_type": "stream",
     "text": [
      "For dataset: match_data, new best accuracy: 0.487279843444227, lr: 0.01, epochs: 100\n",
      "For dataset: match_data, new best accuracy: 0.5812133072407045, lr: 0.05, epochs: 100\n",
      "For dataset: match_data, new best accuracy: 0.6046966731898239, lr: 0.1, epochs: 100\n",
      "For dataset: match_data, new best accuracy: 0.6125244618395304, lr: 0.2, epochs: 100\n",
      "For dataset: match_data, new best accuracy: 0.6203522504892368, lr: 0.5, epochs: 100\n",
      "For dataset: match_data, new best accuracy: 0.62426614481409, lr: 0.1, epochs: 500\n",
      "For dataset: match_data, Best lr: 0.1, Best epochs: 500, Test accuracy: 0.6223091976516634, Duration: 181.7768051624298\n",
      "For dataset: rounds_data, new best accuracy: 0.6685201026518391, lr: 0.01, epochs: 100\n",
      "For dataset: rounds_data, new best accuracy: 0.7412318220701454, lr: 0.05, epochs: 100\n",
      "For dataset: rounds_data, new best accuracy: 0.7544910179640718, lr: 0.1, epochs: 100\n",
      "For dataset: rounds_data, new best accuracy: 0.7583404619332763, lr: 0.2, epochs: 100\n",
      "For dataset: rounds_data, new best accuracy: 0.7613344739093242, lr: 0.05, epochs: 200\n",
      "For dataset: rounds_data, new best accuracy: 0.7630453378956373, lr: 0.3, epochs: 200\n",
      "For dataset: rounds_data, new best accuracy: 0.7634730538922155, lr: 0.05, epochs: 400\n",
      "For dataset: rounds_data, new best accuracy: 0.7643284858853722, lr: 0.3, epochs: 1500\n",
      "For dataset: rounds_data, new best accuracy: 0.7656116338751069, lr: 0.3, epochs: 2000\n",
      "For dataset: rounds_data, Best lr: 0.3, Best epochs: 2000, Test accuracy: 0.7608044501497646, Duration: 717.7524950504303\n",
      "For dataset: rounds_data_with_stats, new best accuracy: 0.65098374679213, lr: 0.01, epochs: 100\n",
      "For dataset: rounds_data_with_stats, new best accuracy: 0.7519247219846023, lr: 0.05, epochs: 100\n",
      "For dataset: rounds_data_with_stats, new best accuracy: 0.7536355859709153, lr: 0.1, epochs: 100\n",
      "For dataset: rounds_data_with_stats, new best accuracy: 0.7630453378956373, lr: 0.2, epochs: 100\n",
      "For dataset: rounds_data_with_stats, new best accuracy: 0.7651839178785287, lr: 0.3, epochs: 100\n",
      "For dataset: rounds_data_with_stats, new best accuracy: 0.7686056458511549, lr: 0.2, epochs: 200\n",
      "For dataset: rounds_data_with_stats, new best accuracy: 0.7698887938408896, lr: 0.1, epochs: 600\n",
      "For dataset: rounds_data_with_stats, Best lr: 0.1, Best epochs: 600, Test accuracy: 0.7526743688489517, Duration: 898.2683072090149\n"
     ]
    }
   ],
   "source": [
    "EPOCHS = [100, 200, 300, 400, 500, 600, 700, 800, 900, 1000, 1500, 2000, 2500, 3000, 3500, 4000, 4500, 5000]\n",
    "LR = [0.01, 0.05, 0.1, 0.2, 0.3, 0.5, 0.7, 1]\n",
    "best_params = []\n",
    "for X, y, ds_name in datasets:\n",
    "    X = StandardScaler().fit_transform(X)\n",
    "    X_train, X_test, y_train, y_test = train_test_split(X, y, test_size=0.4, random_state=42, stratify=y)\n",
    "    X_test, X_val, y_test, y_val = train_test_split(X_test, y_test, test_size=0.5, random_state=42, stratify=y_test)\n",
    "    best_acc = 0\n",
    "    best_lr = 0\n",
    "    best_epochs = 0\n",
    "    start_time = time()\n",
    "    for epochs in EPOCHS:\n",
    "        for lr in LR:\n",
    "            model = LogisticRegression(lr=lr, epochs=epochs)\n",
    "            model.fit(X, y)\n",
    "            y_pred = model.predict(X_val)\n",
    "            acc = accuracy_score(y_val, y_pred)\n",
    "            if acc > best_acc:\n",
    "                best_acc = acc\n",
    "                best_lr = lr\n",
    "                best_epochs = np.argmin(model.losses) + 1\n",
    "                print(f\"For dataset: {ds_name}, new best accuracy: {acc}, lr: {best_lr}, epochs: {best_epochs}\")\n",
    "    \n",
    "    model = LogisticRegression(lr=best_lr, epochs=best_epochs)\n",
    "    model.fit(X_train, y_train)\n",
    "    y_pred = model.predict(X_test)\n",
    "    end_time = time()\n",
    "    acc = accuracy_score(y_test, y_pred)\n",
    "    print(f\"For dataset: {ds_name}, Best lr: {best_lr}, Best epochs: {best_epochs}, Test accuracy: {acc}, Duration: {end_time - start_time}\")\n",
    "    best_params.append((ds_name, best_lr, best_epochs, acc))"
   ]
  },
  {
   "cell_type": "code",
   "execution_count": 24,
   "metadata": {},
   "outputs": [
    {
     "name": "stdout",
     "output_type": "stream",
     "text": [
      "Dataset: match_data, Best lr: 0.1, Best epochs: 500, Accuracy: 0.6223091976516634\n",
      "Dataset: rounds_data, Best lr: 0.3, Best epochs: 2000, Accuracy: 0.7608044501497646\n",
      "Dataset: rounds_data_with_stats, Best lr: 0.1, Best epochs: 600, Accuracy: 0.7526743688489517\n"
     ]
    }
   ],
   "source": [
    "for ds_name, lr, epochs, accuracy in best_params:\n",
    "    print(f\"Dataset: {ds_name}, Best lr: {lr}, Best epochs: {epochs}, Accuracy: {accuracy}\")"
   ]
  }
 ],
 "metadata": {
  "kernelspec": {
   "display_name": "venv",
   "language": "python",
   "name": "python3"
  },
  "language_info": {
   "codemirror_mode": {
    "name": "ipython",
    "version": 3
   },
   "file_extension": ".py",
   "mimetype": "text/x-python",
   "name": "python",
   "nbconvert_exporter": "python",
   "pygments_lexer": "ipython3",
   "version": "3.11.7"
  }
 },
 "nbformat": 4,
 "nbformat_minor": 2
}

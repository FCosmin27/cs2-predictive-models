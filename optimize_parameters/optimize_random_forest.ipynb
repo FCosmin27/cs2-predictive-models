{
 "cells": [
  {
   "cell_type": "code",
   "execution_count": 2,
   "metadata": {},
   "outputs": [],
   "source": [
    "import pandas as pd\n",
    "from sklearn.ensemble import RandomForestClassifier\n",
    "from sklearn.preprocessing import StandardScaler\n",
    "from sklearn.model_selection import train_test_split\n",
    "from sklearn.metrics import accuracy_score\n",
    "from time import time"
   ]
  },
  {
   "cell_type": "code",
   "execution_count": 3,
   "metadata": {},
   "outputs": [],
   "source": [
    "df1 = pd.read_csv('../data/match_data.csv')\n",
    "X1 = df1.drop(columns=['Date', 'Team1', 'Team2', 'Score'])\n",
    "y1 = df1['Score']\n",
    "ds1_name = \"match_data\"\n",
    "\n",
    "df2 = pd.read_csv('../data/cleaned_rounds_data.csv')\n",
    "df2 = df2.drop(columns=[f'player_{i}_{suffix}' for i in range(1, 11) for suffix in ['team_name', 'name']])\n",
    "X2 = df2.drop(['round_winner'], axis=1)\n",
    "y2 = df2['round_winner']\n",
    "ds2_name = \"rounds_data\"\n",
    "\n",
    "df3 = pd.read_csv('../data/cleaned_rounds_data_with_stats.csv')\n",
    "df3 = df3.drop(columns=[f'player_{i}_{suffix}' for i in range(1, 11) for suffix in ['team_name', 'name']])\n",
    "X3 = df3.drop(columns=['round_winner'])\n",
    "y3 = df3['round_winner']\n",
    "ds3_name = \"rounds_data_with_stats\"\n",
    "\n",
    "datasets = [(X1, y1, ds1_name), (X2, y2, ds2_name), (X3, y3, ds3_name)]"
   ]
  },
  {
   "cell_type": "code",
   "execution_count": 10,
   "metadata": {},
   "outputs": [],
   "source": [
    "n_estimators = [10, 50, 100, 150, 200, 300, 500, 1000]\n",
    "max_depths = [1, 2, 3, 4, 5, 6, 7, 8, 9, 10, 13, 15, 17, 20, 25, 30, 40, 50, 60, None]\n",
    "min_samples_splits = [2, 3, 4, 5, 6, 7, 8, 9, 10]"
   ]
  },
  {
   "cell_type": "code",
   "execution_count": 11,
   "metadata": {},
   "outputs": [
    {
     "name": "stdout",
     "output_type": "stream",
     "text": [
      "Dataset: match_data, New best acuracy: 0.589041095890411, N Estimators: 10, Max Depth: 1, Min Samples Split: 2\n",
      "Dataset: match_data, New best acuracy: 0.5909980430528375, N Estimators: 10, Max Depth: 2, Min Samples Split: 2\n",
      "Dataset: match_data, New best acuracy: 0.6066536203522505, N Estimators: 10, Max Depth: 4, Min Samples Split: 2\n",
      "Dataset: match_data, New best acuracy: 0.6144814090019569, N Estimators: 50, Max Depth: 6, Min Samples Split: 2\n",
      "Dataset: match_data, New best acuracy: 0.6183953033268101, N Estimators: 200, Max Depth: 8, Min Samples Split: 2\n",
      "Dataset: match_data, New best acuracy: 0.6223091976516634, N Estimators: 500, Max Depth: 8, Min Samples Split: 2\n",
      "Dataset: match_data, New best acuracy: 0.6281800391389433, N Estimators: 300, Max Depth: 9, Min Samples Split: 5\n",
      "Dataset: match_data, Test accuracy: 0.5792563600782779, N Estimators: 300, Max Depth: 9, Min Samples Split 5, Duration: 577.0836751461029's\n",
      "Dataset: rounds_data, New best acuracy: 0.6629597946963216, N Estimators: 10, Max Depth: 1, Min Samples Split: 2\n",
      "Dataset: rounds_data, New best acuracy: 0.6984602224123182, N Estimators: 10, Max Depth: 2, Min Samples Split: 2\n",
      "Dataset: rounds_data, New best acuracy: 0.7159965782720273, N Estimators: 10, Max Depth: 3, Min Samples Split: 2\n",
      "Dataset: rounds_data, New best acuracy: 0.7258340461933276, N Estimators: 10, Max Depth: 4, Min Samples Split: 2\n",
      "Dataset: rounds_data, New best acuracy: 0.7566295979469632, N Estimators: 10, Max Depth: 5, Min Samples Split: 2\n",
      "Dataset: rounds_data, New best acuracy: 0.7617621899059025, N Estimators: 10, Max Depth: 7, Min Samples Split: 2\n",
      "Dataset: rounds_data, New best acuracy: 0.7788708297690333, N Estimators: 10, Max Depth: 8, Min Samples Split: 2\n",
      "Dataset: rounds_data, New best acuracy: 0.7899914456800684, N Estimators: 10, Max Depth: 15, Min Samples Split: 2\n",
      "Dataset: rounds_data, New best acuracy: 0.8122326775021386, N Estimators: 50, Max Depth: 13, Min Samples Split: 2\n",
      "Dataset: rounds_data, New best acuracy: 0.8135158254918734, N Estimators: 50, Max Depth: 17, Min Samples Split: 2\n",
      "Dataset: rounds_data, New best acuracy: 0.8143712574850299, N Estimators: 50, Max Depth: 25, Min Samples Split: 2\n",
      "Dataset: rounds_data, New best acuracy: 0.8177929854576561, N Estimators: 50, Max Depth: 30, Min Samples Split: 2\n",
      "Dataset: rounds_data, New best acuracy: 0.8190761334473909, N Estimators: 100, Max Depth: 15, Min Samples Split: 2\n",
      "Dataset: rounds_data, New best acuracy: 0.8216424294268606, N Estimators: 100, Max Depth: 17, Min Samples Split: 2\n",
      "Dataset: rounds_data, New best acuracy: 0.8250641573994867, N Estimators: 300, Max Depth: 25, Min Samples Split: 2\n",
      "Dataset: rounds_data, New best acuracy: 0.8284858853721129, N Estimators: 150, Max Depth: 40, Min Samples Split: 3\n",
      "Dataset: rounds_data, Test accuracy: 0.834403080872914, N Estimators: 150, Max Depth: 40, Min Samples Split 3, Duration: 894.221512556076's\n",
      "Dataset: rounds_data_with_stats, New best acuracy: 0.6800684345594525, N Estimators: 10, Max Depth: 1, Min Samples Split: 2\n",
      "Dataset: rounds_data_with_stats, New best acuracy: 0.7130025662959795, N Estimators: 10, Max Depth: 2, Min Samples Split: 2\n",
      "Dataset: rounds_data_with_stats, New best acuracy: 0.73267750213858, N Estimators: 10, Max Depth: 3, Min Samples Split: 2\n",
      "Dataset: rounds_data_with_stats, New best acuracy: 0.7467921300256629, N Estimators: 10, Max Depth: 4, Min Samples Split: 2\n",
      "Dataset: rounds_data_with_stats, New best acuracy: 0.7583404619332763, N Estimators: 10, Max Depth: 6, Min Samples Split: 2\n",
      "Dataset: rounds_data_with_stats, New best acuracy: 0.7617621899059025, N Estimators: 10, Max Depth: 8, Min Samples Split: 2\n",
      "Dataset: rounds_data_with_stats, New best acuracy: 0.7643284858853722, N Estimators: 10, Max Depth: 9, Min Samples Split: 2\n",
      "Dataset: rounds_data_with_stats, New best acuracy: 0.7827202737382378, N Estimators: 10, Max Depth: 15, Min Samples Split: 2\n",
      "Dataset: rounds_data_with_stats, New best acuracy: 0.7840034217279727, N Estimators: 50, Max Depth: 8, Min Samples Split: 2\n",
      "Dataset: rounds_data_with_stats, New best acuracy: 0.7874251497005988, N Estimators: 50, Max Depth: 10, Min Samples Split: 2\n",
      "Dataset: rounds_data_with_stats, New best acuracy: 0.8058169375534645, N Estimators: 50, Max Depth: 13, Min Samples Split: 2\n",
      "Dataset: rounds_data_with_stats, New best acuracy: 0.806672369546621, N Estimators: 50, Max Depth: 25, Min Samples Split: 2\n",
      "Dataset: rounds_data_with_stats, New best acuracy: 0.8088109495295124, N Estimators: 50, Max Depth: 30, Min Samples Split: 2\n",
      "Dataset: rounds_data_with_stats, New best acuracy: 0.8109495295124037, N Estimators: 100, Max Depth: 15, Min Samples Split: 2\n",
      "Dataset: rounds_data_with_stats, New best acuracy: 0.811377245508982, N Estimators: 100, Max Depth: 17, Min Samples Split: 2\n",
      "Dataset: rounds_data_with_stats, New best acuracy: 0.8156544054747648, N Estimators: 100, Max Depth: 30, Min Samples Split: 2\n",
      "Dataset: rounds_data_with_stats, New best acuracy: 0.8160821214713431, N Estimators: 500, Max Depth: 17, Min Samples Split: 2\n",
      "Dataset: rounds_data_with_stats, New best acuracy: 0.8173652694610778, N Estimators: 300, Max Depth: 15, Min Samples Split: 3\n",
      "Dataset: rounds_data_with_stats, New best acuracy: 0.8177929854576561, N Estimators: 300, Max Depth: 20, Min Samples Split: 4\n",
      "Dataset: rounds_data_with_stats, New best acuracy: 0.8182207014542344, N Estimators: 300, Max Depth: 25, Min Samples Split: 7\n",
      "Dataset: rounds_data_with_stats, Test accuracy: 0.8258451005562687, N Estimators: 300, Max Depth: 25, Min Samples Split 7, Duration: 1018.1754348278046's\n"
     ]
    }
   ],
   "source": [
    "best_params = []\n",
    "for X, y, ds_name in datasets:\n",
    "    X = StandardScaler().fit_transform(X)\n",
    "    X_train, X_test, y_train, y_test = train_test_split(X, y, test_size=0.4, random_state=42, stratify=y)\n",
    "    X_test, X_val, y_test, y_val = train_test_split(X_test, y_test, test_size=0.5, random_state=42, stratify=y_test)\n",
    "    best_acc = 0\n",
    "    best_n_est = 0\n",
    "    best_max_d = 0\n",
    "    best_min_s_s = 0\n",
    "    start_time = time()\n",
    "    for min_samples_split in min_samples_splits:\n",
    "        for n_est in n_estimators:\n",
    "            for max_depth in max_depths:\n",
    "                model = RandomForestClassifier(criterion=\"log_loss\" , n_estimators=n_est, max_depth=max_depth, min_samples_split=min_samples_split, random_state=42, n_jobs=-1, verbose=0)\n",
    "                model.fit(X_train, y_train)\n",
    "                y_pred = model.predict(X_val)\n",
    "                acc = accuracy_score(y_val, y_pred)\n",
    "                if acc > best_acc:\n",
    "                    print(f\"Dataset: {ds_name}, New best acuracy: {acc}, N Estimators: {n_est}, Max Depth: {max_depth}, Min Samples Split: {min_samples_split}\")\n",
    "                    best_acc = acc\n",
    "                    best_n_est = n_est\n",
    "                    best_max_d = max_depth\n",
    "                    best_min_s_s = min_samples_split\n",
    "    \n",
    "    model = RandomForestClassifier(criterion=\"log_loss\", n_estimators=best_n_est, max_depth=best_max_d, min_samples_split=best_min_s_s, random_state=42, n_jobs=-1, verbose=0)\n",
    "    model.fit(X_train, y_train)\n",
    "    y_pred = model.predict(X_test)\n",
    "    acc = accuracy_score(y_test, y_pred)\n",
    "    end_time = time()\n",
    "    print(f\"Dataset: {ds_name}, Test accuracy: {acc}, N Estimators: {best_n_est}, Max Depth: {best_max_d}, Min Samples Split {best_min_s_s}, Duration: {end_time - start_time}'s\")\n",
    "    best_params.append((ds_name, best_n_est, best_max_d, best_min_s_s, acc))"
   ]
  },
  {
   "cell_type": "code",
   "execution_count": 13,
   "metadata": {},
   "outputs": [
    {
     "name": "stdout",
     "output_type": "stream",
     "text": [
      "Dataset: match_data, Test Accuracy: 0.5792563600782779, N Estimators: 300, Max Depth: 9, Min Samples Split: 5\n",
      "Dataset: rounds_data, Test Accuracy: 0.834403080872914, N Estimators: 150, Max Depth: 40, Min Samples Split: 3\n",
      "Dataset: rounds_data_with_stats, Test Accuracy: 0.8258451005562687, N Estimators: 300, Max Depth: 25, Min Samples Split: 7\n"
     ]
    }
   ],
   "source": [
    "for ds_name, n_est, max_d, min_s_s, acc in best_params:\n",
    "    print(f\"Dataset: {ds_name}, Test Accuracy: {acc}, N Estimators: {n_est}, Max Depth: {max_d}, Min Samples Split: {min_s_s}\")"
   ]
  }
 ],
 "metadata": {
  "kernelspec": {
   "display_name": "venv",
   "language": "python",
   "name": "python3"
  },
  "language_info": {
   "codemirror_mode": {
    "name": "ipython",
    "version": 3
   },
   "file_extension": ".py",
   "mimetype": "text/x-python",
   "name": "python",
   "nbconvert_exporter": "python",
   "pygments_lexer": "ipython3",
   "version": "3.11.7"
  }
 },
 "nbformat": 4,
 "nbformat_minor": 2
}

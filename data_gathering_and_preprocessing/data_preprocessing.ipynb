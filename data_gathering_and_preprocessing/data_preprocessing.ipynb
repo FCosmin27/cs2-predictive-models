{
 "cells": [
  {
   "cell_type": "code",
   "execution_count": 1,
   "metadata": {},
   "outputs": [],
   "source": [
    "import pandas as pd\n",
    "import ast"
   ]
  },
  {
   "cell_type": "code",
   "execution_count": 2,
   "metadata": {},
   "outputs": [
    {
     "name": "stderr",
     "output_type": "stream",
     "text": [
      "C:\\Users\\cosmi\\AppData\\Local\\Temp\\ipykernel_2528\\1185706848.py:1: DtypeWarning: Columns (6,7,17,18,28,29,72,73,94,95,105,106) have mixed types. Specify dtype option on import or set low_memory=False.\n",
      "  df = pd.read_csv('../data/data.csv')\n"
     ]
    },
    {
     "data": {
      "text/html": [
       "<div>\n",
       "<style scoped>\n",
       "    .dataframe tbody tr th:only-of-type {\n",
       "        vertical-align: middle;\n",
       "    }\n",
       "\n",
       "    .dataframe tbody tr th {\n",
       "        vertical-align: top;\n",
       "    }\n",
       "\n",
       "    .dataframe thead th {\n",
       "        text-align: right;\n",
       "    }\n",
       "</style>\n",
       "<table border=\"1\" class=\"dataframe\">\n",
       "  <thead>\n",
       "    <tr style=\"text-align: right;\">\n",
       "      <th></th>\n",
       "      <th>player_1_team_name</th>\n",
       "      <th>player_1_name</th>\n",
       "      <th>player_1_team_num</th>\n",
       "      <th>player_1_kills_total</th>\n",
       "      <th>player_1_deaths_total</th>\n",
       "      <th>player_1_inventory</th>\n",
       "      <th>player_1_has_defuser</th>\n",
       "      <th>player_1_has_helmet</th>\n",
       "      <th>player_1_armor_value</th>\n",
       "      <th>player_1_current_equip_value</th>\n",
       "      <th>...</th>\n",
       "      <th>player_10_team_num</th>\n",
       "      <th>player_10_kills_total</th>\n",
       "      <th>player_10_deaths_total</th>\n",
       "      <th>player_10_inventory</th>\n",
       "      <th>player_10_has_defuser</th>\n",
       "      <th>player_10_has_helmet</th>\n",
       "      <th>player_10_armor_value</th>\n",
       "      <th>player_10_current_equip_value</th>\n",
       "      <th>player_10_balance</th>\n",
       "      <th>round_winner</th>\n",
       "    </tr>\n",
       "  </thead>\n",
       "  <tbody>\n",
       "    <tr>\n",
       "      <th>0</th>\n",
       "      <td>AMKAL</td>\n",
       "      <td>Krad</td>\n",
       "      <td>3.0</td>\n",
       "      <td>2.0</td>\n",
       "      <td>0.0</td>\n",
       "      <td>['knife_karambit', 'USP-S', 'FAMAS', 'Flashban...</td>\n",
       "      <td>False</td>\n",
       "      <td>True</td>\n",
       "      <td>100.0</td>\n",
       "      <td>4350.0</td>\n",
       "      <td>...</td>\n",
       "      <td>3.0</td>\n",
       "      <td>1.0</td>\n",
       "      <td>1.0</td>\n",
       "      <td>['knife_butterfly', 'USP-S', 'FAMAS', 'Smoke G...</td>\n",
       "      <td>False</td>\n",
       "      <td>True</td>\n",
       "      <td>100.0</td>\n",
       "      <td>4050.0</td>\n",
       "      <td>100.0</td>\n",
       "      <td>CT</td>\n",
       "    </tr>\n",
       "    <tr>\n",
       "      <th>1</th>\n",
       "      <td>AMKAL</td>\n",
       "      <td>Krad</td>\n",
       "      <td>3.0</td>\n",
       "      <td>4.0</td>\n",
       "      <td>0.0</td>\n",
       "      <td>['knife_karambit', 'USP-S', 'Galil AR', 'Smoke...</td>\n",
       "      <td>True</td>\n",
       "      <td>True</td>\n",
       "      <td>81.0</td>\n",
       "      <td>4800.0</td>\n",
       "      <td>...</td>\n",
       "      <td>3.0</td>\n",
       "      <td>3.0</td>\n",
       "      <td>2.0</td>\n",
       "      <td>['knife_butterfly', 'P250', 'Flashbang']</td>\n",
       "      <td>False</td>\n",
       "      <td>False</td>\n",
       "      <td>0.0</td>\n",
       "      <td>500.0</td>\n",
       "      <td>1800.0</td>\n",
       "      <td>T</td>\n",
       "    </tr>\n",
       "    <tr>\n",
       "      <th>2</th>\n",
       "      <td>AMKAL</td>\n",
       "      <td>Krad</td>\n",
       "      <td>3.0</td>\n",
       "      <td>5.0</td>\n",
       "      <td>0.0</td>\n",
       "      <td>['knife_karambit', 'USP-S', 'Galil AR', 'Smoke...</td>\n",
       "      <td>True</td>\n",
       "      <td>True</td>\n",
       "      <td>73.0</td>\n",
       "      <td>3700.0</td>\n",
       "      <td>...</td>\n",
       "      <td>3.0</td>\n",
       "      <td>3.0</td>\n",
       "      <td>3.0</td>\n",
       "      <td>['knife_butterfly', 'CZ75-Auto']</td>\n",
       "      <td>False</td>\n",
       "      <td>False</td>\n",
       "      <td>0.0</td>\n",
       "      <td>500.0</td>\n",
       "      <td>3700.0</td>\n",
       "      <td>T</td>\n",
       "    </tr>\n",
       "    <tr>\n",
       "      <th>3</th>\n",
       "      <td>AMKAL</td>\n",
       "      <td>Krad</td>\n",
       "      <td>3.0</td>\n",
       "      <td>5.0</td>\n",
       "      <td>1.0</td>\n",
       "      <td>['knife_karambit', 'USP-S', 'Smoke Grenade', '...</td>\n",
       "      <td>False</td>\n",
       "      <td>False</td>\n",
       "      <td>100.0</td>\n",
       "      <td>4300.0</td>\n",
       "      <td>...</td>\n",
       "      <td>3.0</td>\n",
       "      <td>3.0</td>\n",
       "      <td>4.0</td>\n",
       "      <td>['knife_butterfly', 'USP-S', 'AWP']</td>\n",
       "      <td>False</td>\n",
       "      <td>False</td>\n",
       "      <td>100.0</td>\n",
       "      <td>5600.0</td>\n",
       "      <td>50.0</td>\n",
       "      <td>T</td>\n",
       "    </tr>\n",
       "    <tr>\n",
       "      <th>4</th>\n",
       "      <td>AMKAL</td>\n",
       "      <td>Krad</td>\n",
       "      <td>3.0</td>\n",
       "      <td>6.0</td>\n",
       "      <td>2.0</td>\n",
       "      <td>['knife_karambit', 'USP-S', 'Flashbang', 'Smok...</td>\n",
       "      <td>False</td>\n",
       "      <td>False</td>\n",
       "      <td>0.0</td>\n",
       "      <td>700.0</td>\n",
       "      <td>...</td>\n",
       "      <td>3.0</td>\n",
       "      <td>5.0</td>\n",
       "      <td>5.0</td>\n",
       "      <td>['knife_butterfly', 'USP-S']</td>\n",
       "      <td>False</td>\n",
       "      <td>False</td>\n",
       "      <td>0.0</td>\n",
       "      <td>200.0</td>\n",
       "      <td>3150.0</td>\n",
       "      <td>T</td>\n",
       "    </tr>\n",
       "  </tbody>\n",
       "</table>\n",
       "<p>5 rows × 111 columns</p>\n",
       "</div>"
      ],
      "text/plain": [
       "  player_1_team_name player_1_name  player_1_team_num  player_1_kills_total  \\\n",
       "0              AMKAL          Krad                3.0                   2.0   \n",
       "1              AMKAL          Krad                3.0                   4.0   \n",
       "2              AMKAL          Krad                3.0                   5.0   \n",
       "3              AMKAL          Krad                3.0                   5.0   \n",
       "4              AMKAL          Krad                3.0                   6.0   \n",
       "\n",
       "   player_1_deaths_total                                 player_1_inventory  \\\n",
       "0                    0.0  ['knife_karambit', 'USP-S', 'FAMAS', 'Flashban...   \n",
       "1                    0.0  ['knife_karambit', 'USP-S', 'Galil AR', 'Smoke...   \n",
       "2                    0.0  ['knife_karambit', 'USP-S', 'Galil AR', 'Smoke...   \n",
       "3                    1.0  ['knife_karambit', 'USP-S', 'Smoke Grenade', '...   \n",
       "4                    2.0  ['knife_karambit', 'USP-S', 'Flashbang', 'Smok...   \n",
       "\n",
       "  player_1_has_defuser player_1_has_helmet  player_1_armor_value  \\\n",
       "0                False                True                 100.0   \n",
       "1                 True                True                  81.0   \n",
       "2                 True                True                  73.0   \n",
       "3                False               False                 100.0   \n",
       "4                False               False                   0.0   \n",
       "\n",
       "   player_1_current_equip_value  ...  player_10_team_num  \\\n",
       "0                        4350.0  ...                 3.0   \n",
       "1                        4800.0  ...                 3.0   \n",
       "2                        3700.0  ...                 3.0   \n",
       "3                        4300.0  ...                 3.0   \n",
       "4                         700.0  ...                 3.0   \n",
       "\n",
       "  player_10_kills_total player_10_deaths_total  \\\n",
       "0                   1.0                    1.0   \n",
       "1                   3.0                    2.0   \n",
       "2                   3.0                    3.0   \n",
       "3                   3.0                    4.0   \n",
       "4                   5.0                    5.0   \n",
       "\n",
       "                                 player_10_inventory  player_10_has_defuser  \\\n",
       "0  ['knife_butterfly', 'USP-S', 'FAMAS', 'Smoke G...                  False   \n",
       "1           ['knife_butterfly', 'P250', 'Flashbang']                  False   \n",
       "2                   ['knife_butterfly', 'CZ75-Auto']                  False   \n",
       "3                ['knife_butterfly', 'USP-S', 'AWP']                  False   \n",
       "4                       ['knife_butterfly', 'USP-S']                  False   \n",
       "\n",
       "   player_10_has_helmet player_10_armor_value player_10_current_equip_value  \\\n",
       "0                  True                 100.0                        4050.0   \n",
       "1                 False                   0.0                         500.0   \n",
       "2                 False                   0.0                         500.0   \n",
       "3                 False                 100.0                        5600.0   \n",
       "4                 False                   0.0                         200.0   \n",
       "\n",
       "  player_10_balance  round_winner  \n",
       "0             100.0            CT  \n",
       "1            1800.0             T  \n",
       "2            3700.0             T  \n",
       "3              50.0             T  \n",
       "4            3150.0             T  \n",
       "\n",
       "[5 rows x 111 columns]"
      ]
     },
     "execution_count": 2,
     "metadata": {},
     "output_type": "execute_result"
    }
   ],
   "source": [
    "df = pd.read_csv('../data/data.csv')\n",
    "df.head()"
   ]
  },
  {
   "cell_type": "code",
   "execution_count": 3,
   "metadata": {},
   "outputs": [
    {
     "data": {
      "text/plain": [
       "8257"
      ]
     },
     "execution_count": 3,
     "metadata": {},
     "output_type": "execute_result"
    }
   ],
   "source": [
    "df['round_winner'].count()"
   ]
  },
  {
   "cell_type": "code",
   "execution_count": 4,
   "metadata": {},
   "outputs": [],
   "source": [
    "round_winner = df.pop('round_winner')\n",
    "df.insert(0, 'round_winner', round_winner)"
   ]
  },
  {
   "cell_type": "code",
   "execution_count": 5,
   "metadata": {},
   "outputs": [
    {
     "data": {
      "text/plain": [
       "Index(['round_winner', 'player_1_team_name', 'player_1_name',\n",
       "       'player_1_team_num', 'player_1_kills_total', 'player_1_deaths_total',\n",
       "       'player_1_inventory', 'player_1_has_defuser', 'player_1_has_helmet',\n",
       "       'player_1_armor_value',\n",
       "       ...\n",
       "       'player_10_name', 'player_10_team_num', 'player_10_kills_total',\n",
       "       'player_10_deaths_total', 'player_10_inventory',\n",
       "       'player_10_has_defuser', 'player_10_has_helmet',\n",
       "       'player_10_armor_value', 'player_10_current_equip_value',\n",
       "       'player_10_balance'],\n",
       "      dtype='object', length=111)"
      ]
     },
     "execution_count": 5,
     "metadata": {},
     "output_type": "execute_result"
    }
   ],
   "source": [
    "df.columns"
   ]
  },
  {
   "cell_type": "code",
   "execution_count": 6,
   "metadata": {},
   "outputs": [],
   "source": [
    "df = df.dropna()"
   ]
  },
  {
   "cell_type": "code",
   "execution_count": 7,
   "metadata": {},
   "outputs": [
    {
     "data": {
      "text/plain": [
       "7531"
      ]
     },
     "execution_count": 7,
     "metadata": {},
     "output_type": "execute_result"
    }
   ],
   "source": [
    "df['round_winner'].count()"
   ]
  },
  {
   "cell_type": "code",
   "execution_count": 8,
   "metadata": {},
   "outputs": [
    {
     "data": {
      "text/plain": [
       "array(['CT', 'T', '3', '2', '1'], dtype=object)"
      ]
     },
     "execution_count": 8,
     "metadata": {},
     "output_type": "execute_result"
    }
   ],
   "source": [
    "df['round_winner'].unique()"
   ]
  },
  {
   "cell_type": "code",
   "execution_count": 9,
   "metadata": {},
   "outputs": [
    {
     "name": "stdout",
     "output_type": "stream",
     "text": [
      "round_winner\n",
      "CT    2774\n",
      "T     2638\n",
      "3     1064\n",
      "2     1013\n",
      "1       42\n",
      "Name: count, dtype: int64\n"
     ]
    }
   ],
   "source": [
    "round_winner_counts = df['round_winner'].value_counts()\n",
    "print(round_winner_counts)"
   ]
  },
  {
   "cell_type": "code",
   "execution_count": 10,
   "metadata": {},
   "outputs": [],
   "source": [
    "df = df[df['round_winner'] != \"1\"]"
   ]
  },
  {
   "cell_type": "code",
   "execution_count": 11,
   "metadata": {},
   "outputs": [
    {
     "data": {
      "text/plain": [
       "7489"
      ]
     },
     "execution_count": 11,
     "metadata": {},
     "output_type": "execute_result"
    }
   ],
   "source": [
    "df['round_winner'].count()"
   ]
  },
  {
   "cell_type": "code",
   "execution_count": 12,
   "metadata": {},
   "outputs": [
    {
     "name": "stderr",
     "output_type": "stream",
     "text": [
      "C:\\Users\\Cosmin\\AppData\\Local\\Temp\\ipykernel_15040\\1361703144.py:1: FutureWarning: Downcasting behavior in `replace` is deprecated and will be removed in a future version. To retain the old behavior, explicitly call `result.infer_objects(copy=False)`. To opt-in to the future behavior, set `pd.set_option('future.no_silent_downcasting', True)`\n",
      "  df['round_winner'] = df['round_winner'].replace({'CT': 1, '3': 1, 'T': 0, '2': 0}).astype(int)\n"
     ]
    }
   ],
   "source": [
    "df['round_winner'] = df['round_winner'].replace({'CT': 1, '3': 1, 'T': 0, '2': 0}).astype(int)"
   ]
  },
  {
   "cell_type": "code",
   "execution_count": 13,
   "metadata": {},
   "outputs": [
    {
     "data": {
      "text/plain": [
       "array([1, 0])"
      ]
     },
     "execution_count": 13,
     "metadata": {},
     "output_type": "execute_result"
    }
   ],
   "source": [
    "df['round_winner'].unique()"
   ]
  },
  {
   "cell_type": "code",
   "execution_count": 14,
   "metadata": {},
   "outputs": [
    {
     "name": "stdout",
     "output_type": "stream",
     "text": [
      "round_winner\n",
      "1    3838\n",
      "0    3651\n",
      "Name: count, dtype: int64\n"
     ]
    }
   ],
   "source": [
    "round_winner_counts = df['round_winner'].value_counts()\n",
    "print(round_winner_counts)"
   ]
  },
  {
   "cell_type": "code",
   "execution_count": 15,
   "metadata": {},
   "outputs": [],
   "source": [
    "team_num_columns = [f'player_{i}_team_num' for i in range(1, 11)]"
   ]
  },
  {
   "cell_type": "code",
   "execution_count": 16,
   "metadata": {},
   "outputs": [
    {
     "data": {
      "text/plain": [
       "7489"
      ]
     },
     "execution_count": 16,
     "metadata": {},
     "output_type": "execute_result"
    }
   ],
   "source": [
    "df['round_winner'].count()"
   ]
  },
  {
   "cell_type": "code",
   "execution_count": 17,
   "metadata": {},
   "outputs": [],
   "source": [
    "for i in range(1, 11):\n",
    "    df[f'player_{i}_team_num'] = df[f'player_{i}_team_num'].replace({2.0: 0, 3.0: 1}).astype(int)\n",
    "    for suffix in ['has_defuser', 'has_helmet']:\n",
    "        column_name = f'player_{i}_{suffix}'\n",
    "        df = df[df[column_name].isin([True, False])]\n",
    "boolean_columns = [f'player_{i}_{suffix}' for i in range(1, 11) for suffix in ['has_defuser', 'has_helmet']]\n",
    "df[boolean_columns] = df[boolean_columns].astype(int)"
   ]
  },
  {
   "cell_type": "code",
   "execution_count": 18,
   "metadata": {},
   "outputs": [
    {
     "name": "stdout",
     "output_type": "stream",
     "text": [
      "[1 0]\n",
      "[0 1]\n",
      "[0 1]\n",
      "[1 0]\n",
      "[0 1]\n",
      "[1 0]\n",
      "[0 1]\n",
      "[1 0]\n",
      "[0 1]\n",
      "[1 0]\n"
     ]
    }
   ],
   "source": [
    "for i in range(1,11):\n",
    "    print(df[f'player_{i}_team_num'].unique())"
   ]
  },
  {
   "cell_type": "code",
   "execution_count": 19,
   "metadata": {},
   "outputs": [],
   "source": [
    "primary_weapons = [\n",
    "    'AK-47', 'M4A1-S', 'M4A4', 'AWP', 'AUG', 'SG 553', 'FAMAS', 'Galil AR',\n",
    "    'Scar-20', 'G3SG1', 'MP5-SD', 'UMP-45', 'P90', 'MAC-10', 'MP7', 'MP9',\n",
    "    'PP-Bizon', 'Negev', 'M249', 'Nova', 'XM1014', 'Sawed-Off', 'MAG-7'\n",
    "]\n",
    "secondary_weapons = [\n",
    "    'P2000', 'USP-S', 'Glock-18', 'P250', 'Five-SeveN', 'Tec-9', \n",
    "    'CZ75-Auto', 'Desert Eagle', 'R8 Revolver', 'Dual Berettas'\n",
    "]\n",
    "\n",
    "grenades = ['Smoke Grenade', 'High Explosive Grenade', 'Flashbang', 'Incendiary Grenade', 'Molotov', 'Decoy Grenade']"
   ]
  },
  {
   "cell_type": "code",
   "execution_count": 20,
   "metadata": {},
   "outputs": [],
   "source": [
    "all_new_columns = {}"
   ]
  },
  {
   "cell_type": "code",
   "execution_count": 21,
   "metadata": {},
   "outputs": [],
   "source": [
    "for i in range(1, 11):\n",
    "    if f'player_{i}_balance' in df.columns:\n",
    "        new_columns_df = pd.DataFrame(index=df.index)\n",
    "        for item in primary_weapons + secondary_weapons + grenades:\n",
    "            new_columns_df[f'player_{i}_{item}'] = 0\n",
    "\n",
    "        all_new_columns[f'player_{i}_balance'] = new_columns_df"
   ]
  },
  {
   "cell_type": "code",
   "execution_count": 22,
   "metadata": {},
   "outputs": [],
   "source": [
    "for key, value in all_new_columns.items():\n",
    "    insert_pos = df.columns.get_loc(key) + 1\n",
    "    df = pd.concat([df.iloc[:, :insert_pos], value, df.iloc[:, insert_pos:]], axis=1)"
   ]
  },
  {
   "cell_type": "code",
   "execution_count": 23,
   "metadata": {},
   "outputs": [],
   "source": [
    "def convert_to_list(x):\n",
    "    try:\n",
    "        return ast.literal_eval(x)\n",
    "    except ValueError:\n",
    "        return []  \n",
    "    except SyntaxError:\n",
    "        return []"
   ]
  },
  {
   "cell_type": "code",
   "execution_count": 24,
   "metadata": {},
   "outputs": [],
   "source": [
    "for i in range(1, 11):\n",
    "    column_name = f'player_{i}_inventory'\n",
    "    df[column_name] = df[column_name].apply(convert_to_list)"
   ]
  },
  {
   "cell_type": "code",
   "execution_count": 25,
   "metadata": {},
   "outputs": [],
   "source": [
    "def one_hot_encode_inventory(row):\n",
    "    for i in range(1, 11):\n",
    "        inventory = row[f'player_{i}_inventory']\n",
    "        if isinstance(inventory, list):\n",
    "            for item in inventory:\n",
    "                if item in primary_weapons or item in secondary_weapons:\n",
    "                    row[f'player_{i}_{item}'] = 1\n",
    "                elif item in grenades:\n",
    "                    row[f'player_{i}_{item}'] = 1\n",
    "    return row"
   ]
  },
  {
   "cell_type": "code",
   "execution_count": 26,
   "metadata": {},
   "outputs": [],
   "source": [
    "df = df.apply(one_hot_encode_inventory, axis=1)"
   ]
  },
  {
   "cell_type": "code",
   "execution_count": 27,
   "metadata": {},
   "outputs": [],
   "source": [
    "for i in range(1, 11):\n",
    "    df.drop(columns=[f'player_{i}_inventory'], inplace=True)"
   ]
  },
  {
   "cell_type": "code",
   "execution_count": null,
   "metadata": {},
   "outputs": [],
   "source": [
    "player_names = []\n",
    "for i in range(1, 11):\n",
    "    player_name_col = f'player_{i}_name'\n",
    "    if player_name_col in df.columns:\n",
    "        player_names.append(df[player_name_col])\n",
    "all_player_names = pd.concat(player_names)\n",
    "unique_player_names = all_player_names.unique()\n",
    "print(\"Unique Player Names:\", unique_player_names)"
   ]
  },
  {
   "cell_type": "code",
   "execution_count": null,
   "metadata": {},
   "outputs": [],
   "source": [
    "len(unique_player_names)"
   ]
  },
  {
   "cell_type": "code",
   "execution_count": null,
   "metadata": {},
   "outputs": [],
   "source": [
    "player_team_names = []\n",
    "for i in range(1, 11):\n",
    "    player_team_col = f'player_{i}_team_name'\n",
    "    if player_team_col in df.columns:\n",
    "        player_team_names.append(df[player_team_col])\n",
    "all_player_team_names = pd.concat(player_team_names)\n",
    "unique_player_team_names = all_player_team_names.unique()\n",
    "print(\"Unique Player Team Names:\", unique_player_team_names)"
   ]
  },
  {
   "cell_type": "markdown",
   "metadata": {},
   "source": [
    "REMEMBER THAT NAVI CAN WAS FOUND IN DEMOS AS NAVI, NAVI- AND NATUS VINCERE\n",
    "Virtus.pro can be found as Virtus.proVP \n",
    "Team Liquid is also found as Liquid"
   ]
  },
  {
   "cell_type": "code",
   "execution_count": null,
   "metadata": {},
   "outputs": [],
   "source": [
    "len(unique_player_team_names)"
   ]
  },
  {
   "cell_type": "code",
   "execution_count": null,
   "metadata": {},
   "outputs": [],
   "source": [
    "with open('../data/players_stats.json') as file:\n",
    "    players_stats = json.load(file)\n",
    "\n",
    "with open('../data/teams_stats.json') as file:\n",
    "    teams_stats = json.load(file)\n",
    "\n",
    "teams_stats = {k.lower(): v for k, v in teams_stats.items()}\n",
    "players_stats = {k.lower(): v for k, v in players_stats.items()}"
   ]
  },
  {
   "cell_type": "code",
   "execution_count": null,
   "metadata": {},
   "outputs": [],
   "source": [
    "json_player_names = list(players_stats.keys())\n",
    "json_team_names = list(teams_stats.keys())\n",
    "print(\"Number of players in JSON:\", len(json_player_names))\n",
    "print(\"Number of teams in JSON:\", len(json_team_names))"
   ]
  },
  {
   "cell_type": "code",
   "execution_count": null,
   "metadata": {},
   "outputs": [],
   "source": [
    "matching_player_names = [name for name in json_player_names if name.lower() in (n.lower() for n in unique_player_names)]\n",
    "print(f\"Matching Player Names: {len(matching_player_names)} out of {len(json_player_names)}\")\n",
    "print(\"Names:\", matching_player_names)"
   ]
  },
  {
   "cell_type": "markdown",
   "metadata": {},
   "source": [
    "9Pandas Esports -> 9 Pandas | EcstaticCS2 -> ECSTATIC | 9z Globant -> 9z"
   ]
  },
  {
   "cell_type": "code",
   "execution_count": null,
   "metadata": {},
   "outputs": [],
   "source": [
    "matching_team_names = [\n",
    "    name for name in json_team_names if isinstance(name, str) and name.lower() in \n",
    "    (n.lower() for n in unique_player_team_names if isinstance(n, str))\n",
    "]\n",
    "\n",
    "print(f\"Matching Team Names: {len(matching_team_names)} out of {len(json_team_names)}\")\n",
    "print(\"Names:\", matching_team_names)\n",
    "missing_team_names = [\n",
    "    name for name in unique_player_team_names if isinstance(name, str) and \n",
    "    name.lower() not in (n.lower() for n in matching_team_names if isinstance(n, str))\n",
    "]\n",
    "print(f\"Missing Team Names: {missing_team_names}\")"
   ]
  },
  {
   "cell_type": "markdown",
   "metadata": {},
   "source": [
    "drop team One esports since / vagrants there is no info on hltv about the Team\n"
   ]
  },
  {
   "cell_type": "code",
   "execution_count": null,
   "metadata": {},
   "outputs": [],
   "source": [
    "missing_player_names = [name for name in unique_player_names if name.lower() not in (n.lower() for n in matching_player_names)]\n",
    "print(\"Missing players count:\", len(missing_player_names))\n",
    "print(f\"Missing Player Names: {missing_player_names}\")"
   ]
  },
  {
   "cell_type": "code",
   "execution_count": 3,
   "metadata": {},
   "outputs": [],
   "source": [
    "df1 = pd.read_csv('../data/cleaned_rounds_data_60gb_of_demos.csv')"
   ]
  },
  {
   "cell_type": "code",
   "execution_count": 4,
   "metadata": {},
   "outputs": [],
   "source": [
    "df2 = pd.read_csv('../data/cleaned_rounds_data_100gb_of_demos.csv')"
   ]
  },
  {
   "cell_type": "code",
   "execution_count": 5,
   "metadata": {},
   "outputs": [],
   "source": [
    "merged_df = pd.concat([df1, df2])"
   ]
  },
  {
   "cell_type": "code",
   "execution_count": 6,
   "metadata": {},
   "outputs": [
    {
     "data": {
      "text/plain": [
       "11686"
      ]
     },
     "execution_count": 6,
     "metadata": {},
     "output_type": "execute_result"
    }
   ],
   "source": [
    "merged_df['round_winner'].count()"
   ]
  },
  {
   "cell_type": "code",
   "execution_count": 7,
   "metadata": {},
   "outputs": [],
   "source": [
    "merged_df.to_csv('cleaned_rounds_data.csv', index=False)"
   ]
  }
 ],
 "metadata": {
  "kernelspec": {
   "display_name": "venv",
   "language": "python",
   "name": "python3"
  },
  "language_info": {
   "codemirror_mode": {
    "name": "ipython",
    "version": 3
   },
   "file_extension": ".py",
   "mimetype": "text/x-python",
   "name": "python",
   "nbconvert_exporter": "python",
   "pygments_lexer": "ipython3",
   "version": "3.10.7"
  }
 },
 "nbformat": 4,
 "nbformat_minor": 2
}

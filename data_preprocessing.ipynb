{
 "cells": [
  {
   "cell_type": "code",
   "execution_count": 180,
   "metadata": {},
   "outputs": [],
   "source": [
    "import pandas as pd\n",
    "import ast"
   ]
  },
  {
   "cell_type": "code",
   "execution_count": 181,
   "metadata": {},
   "outputs": [
    {
     "data": {
      "text/html": [
       "<div>\n",
       "<style scoped>\n",
       "    .dataframe tbody tr th:only-of-type {\n",
       "        vertical-align: middle;\n",
       "    }\n",
       "\n",
       "    .dataframe tbody tr th {\n",
       "        vertical-align: top;\n",
       "    }\n",
       "\n",
       "    .dataframe thead th {\n",
       "        text-align: right;\n",
       "    }\n",
       "</style>\n",
       "<table border=\"1\" class=\"dataframe\">\n",
       "  <thead>\n",
       "    <tr style=\"text-align: right;\">\n",
       "      <th></th>\n",
       "      <th>player_1_team_name</th>\n",
       "      <th>player_1_name</th>\n",
       "      <th>player_1_team_num</th>\n",
       "      <th>player_1_kills_total</th>\n",
       "      <th>player_1_deaths_total</th>\n",
       "      <th>player_1_inventory</th>\n",
       "      <th>player_1_has_defuser</th>\n",
       "      <th>player_1_has_helmet</th>\n",
       "      <th>player_1_armor_value</th>\n",
       "      <th>player_1_current_equip_value</th>\n",
       "      <th>...</th>\n",
       "      <th>player_10_team_num</th>\n",
       "      <th>player_10_kills_total</th>\n",
       "      <th>player_10_deaths_total</th>\n",
       "      <th>player_10_inventory</th>\n",
       "      <th>player_10_has_defuser</th>\n",
       "      <th>player_10_has_helmet</th>\n",
       "      <th>player_10_armor_value</th>\n",
       "      <th>player_10_current_equip_value</th>\n",
       "      <th>player_10_balance</th>\n",
       "      <th>round_winner</th>\n",
       "    </tr>\n",
       "  </thead>\n",
       "  <tbody>\n",
       "    <tr>\n",
       "      <th>0</th>\n",
       "      <td>G2 Esports</td>\n",
       "      <td>NiKo</td>\n",
       "      <td>2.0</td>\n",
       "      <td>0</td>\n",
       "      <td>0</td>\n",
       "      <td>['knife_m9_bayonet', 'Glock-18', 'Smoke Grenade']</td>\n",
       "      <td>False</td>\n",
       "      <td>False</td>\n",
       "      <td>100.0</td>\n",
       "      <td>1150.0</td>\n",
       "      <td>...</td>\n",
       "      <td>3.0</td>\n",
       "      <td>0.0</td>\n",
       "      <td>0.0</td>\n",
       "      <td>['knife_flip', 'Dual Berettas']</td>\n",
       "      <td>False</td>\n",
       "      <td>False</td>\n",
       "      <td>100.0</td>\n",
       "      <td>950.0</td>\n",
       "      <td>150.0</td>\n",
       "      <td>NaN</td>\n",
       "    </tr>\n",
       "    <tr>\n",
       "      <th>1</th>\n",
       "      <td>G2 Esports</td>\n",
       "      <td>NiKo</td>\n",
       "      <td>2.0</td>\n",
       "      <td>1</td>\n",
       "      <td>1</td>\n",
       "      <td>['knife_m9_bayonet', 'Desert Eagle']</td>\n",
       "      <td>False</td>\n",
       "      <td>False</td>\n",
       "      <td>0.0</td>\n",
       "      <td>700.0</td>\n",
       "      <td>...</td>\n",
       "      <td>3.0</td>\n",
       "      <td>0.0</td>\n",
       "      <td>1.0</td>\n",
       "      <td>['knife_flip', 'USP-S', 'Smoke Grenade', 'Ince...</td>\n",
       "      <td>False</td>\n",
       "      <td>True</td>\n",
       "      <td>100.0</td>\n",
       "      <td>3550.0</td>\n",
       "      <td>50.0</td>\n",
       "      <td>CT</td>\n",
       "    </tr>\n",
       "    <tr>\n",
       "      <th>2</th>\n",
       "      <td>G2 Esports</td>\n",
       "      <td>NiKo</td>\n",
       "      <td>2.0</td>\n",
       "      <td>1</td>\n",
       "      <td>2</td>\n",
       "      <td>['knife_m9_bayonet', 'Glock-18', 'Galil AR', '...</td>\n",
       "      <td>False</td>\n",
       "      <td>True</td>\n",
       "      <td>100.0</td>\n",
       "      <td>4100.0</td>\n",
       "      <td>...</td>\n",
       "      <td>3.0</td>\n",
       "      <td>0.0</td>\n",
       "      <td>2.0</td>\n",
       "      <td>['knife_flip', 'USP-S', 'Flashbang', 'MP9', 'S...</td>\n",
       "      <td>False</td>\n",
       "      <td>True</td>\n",
       "      <td>100.0</td>\n",
       "      <td>3850.0</td>\n",
       "      <td>1100.0</td>\n",
       "      <td>CT</td>\n",
       "    </tr>\n",
       "    <tr>\n",
       "      <th>3</th>\n",
       "      <td>G2 Esports</td>\n",
       "      <td>NiKo</td>\n",
       "      <td>2.0</td>\n",
       "      <td>1</td>\n",
       "      <td>3</td>\n",
       "      <td>['knife_m9_bayonet', 'Glock-18', 'AK-47', 'Smo...</td>\n",
       "      <td>False</td>\n",
       "      <td>True</td>\n",
       "      <td>100.0</td>\n",
       "      <td>5100.0</td>\n",
       "      <td>...</td>\n",
       "      <td>3.0</td>\n",
       "      <td>1.0</td>\n",
       "      <td>3.0</td>\n",
       "      <td>['knife_flip', 'USP-S', 'M4A1-S', 'Smoke Grena...</td>\n",
       "      <td>False</td>\n",
       "      <td>False</td>\n",
       "      <td>100.0</td>\n",
       "      <td>4950.0</td>\n",
       "      <td>0.0</td>\n",
       "      <td>T</td>\n",
       "    </tr>\n",
       "    <tr>\n",
       "      <th>4</th>\n",
       "      <td>G2 Esports</td>\n",
       "      <td>NiKo</td>\n",
       "      <td>2.0</td>\n",
       "      <td>3</td>\n",
       "      <td>4</td>\n",
       "      <td>['knife_m9_bayonet', 'Molotov', 'Flashbang', '...</td>\n",
       "      <td>False</td>\n",
       "      <td>True</td>\n",
       "      <td>100.0</td>\n",
       "      <td>2800.0</td>\n",
       "      <td>...</td>\n",
       "      <td>3.0</td>\n",
       "      <td>2.0</td>\n",
       "      <td>4.0</td>\n",
       "      <td>['knife_flip', 'USP-S', 'MP9', 'Smoke Grenade'...</td>\n",
       "      <td>False</td>\n",
       "      <td>True</td>\n",
       "      <td>100.0</td>\n",
       "      <td>3650.0</td>\n",
       "      <td>100.0</td>\n",
       "      <td>CT</td>\n",
       "    </tr>\n",
       "  </tbody>\n",
       "</table>\n",
       "<p>5 rows × 111 columns</p>\n",
       "</div>"
      ],
      "text/plain": [
       "  player_1_team_name player_1_name  player_1_team_num  player_1_kills_total  \\\n",
       "0         G2 Esports          NiKo                2.0                     0   \n",
       "1         G2 Esports          NiKo                2.0                     1   \n",
       "2         G2 Esports          NiKo                2.0                     1   \n",
       "3         G2 Esports          NiKo                2.0                     1   \n",
       "4         G2 Esports          NiKo                2.0                     3   \n",
       "\n",
       "   player_1_deaths_total                                 player_1_inventory  \\\n",
       "0                      0  ['knife_m9_bayonet', 'Glock-18', 'Smoke Grenade']   \n",
       "1                      1               ['knife_m9_bayonet', 'Desert Eagle']   \n",
       "2                      2  ['knife_m9_bayonet', 'Glock-18', 'Galil AR', '...   \n",
       "3                      3  ['knife_m9_bayonet', 'Glock-18', 'AK-47', 'Smo...   \n",
       "4                      4  ['knife_m9_bayonet', 'Molotov', 'Flashbang', '...   \n",
       "\n",
       "   player_1_has_defuser  player_1_has_helmet  player_1_armor_value  \\\n",
       "0                 False                False                 100.0   \n",
       "1                 False                False                   0.0   \n",
       "2                 False                 True                 100.0   \n",
       "3                 False                 True                 100.0   \n",
       "4                 False                 True                 100.0   \n",
       "\n",
       "   player_1_current_equip_value  ...  player_10_team_num  \\\n",
       "0                        1150.0  ...                 3.0   \n",
       "1                         700.0  ...                 3.0   \n",
       "2                        4100.0  ...                 3.0   \n",
       "3                        5100.0  ...                 3.0   \n",
       "4                        2800.0  ...                 3.0   \n",
       "\n",
       "  player_10_kills_total player_10_deaths_total  \\\n",
       "0                   0.0                    0.0   \n",
       "1                   0.0                    1.0   \n",
       "2                   0.0                    2.0   \n",
       "3                   1.0                    3.0   \n",
       "4                   2.0                    4.0   \n",
       "\n",
       "                                 player_10_inventory  player_10_has_defuser  \\\n",
       "0                    ['knife_flip', 'Dual Berettas']                  False   \n",
       "1  ['knife_flip', 'USP-S', 'Smoke Grenade', 'Ince...                  False   \n",
       "2  ['knife_flip', 'USP-S', 'Flashbang', 'MP9', 'S...                  False   \n",
       "3  ['knife_flip', 'USP-S', 'M4A1-S', 'Smoke Grena...                  False   \n",
       "4  ['knife_flip', 'USP-S', 'MP9', 'Smoke Grenade'...                  False   \n",
       "\n",
       "   player_10_has_helmet player_10_armor_value player_10_current_equip_value  \\\n",
       "0                 False                 100.0                         950.0   \n",
       "1                  True                 100.0                        3550.0   \n",
       "2                  True                 100.0                        3850.0   \n",
       "3                 False                 100.0                        4950.0   \n",
       "4                  True                 100.0                        3650.0   \n",
       "\n",
       "  player_10_balance  round_winner  \n",
       "0             150.0           NaN  \n",
       "1              50.0            CT  \n",
       "2            1100.0            CT  \n",
       "3               0.0             T  \n",
       "4             100.0            CT  \n",
       "\n",
       "[5 rows x 111 columns]"
      ]
     },
     "execution_count": 181,
     "metadata": {},
     "output_type": "execute_result"
    }
   ],
   "source": [
    "df = pd.read_csv('rounds_data.csv')\n",
    "df.head()"
   ]
  },
  {
   "cell_type": "code",
   "execution_count": 182,
   "metadata": {},
   "outputs": [],
   "source": [
    "round_winner = df.pop('round_winner')\n",
    "df.insert(0, 'round_winner', round_winner)"
   ]
  },
  {
   "cell_type": "code",
   "execution_count": 183,
   "metadata": {},
   "outputs": [
    {
     "data": {
      "text/plain": [
       "Index(['round_winner', 'player_1_team_name', 'player_1_name',\n",
       "       'player_1_team_num', 'player_1_kills_total', 'player_1_deaths_total',\n",
       "       'player_1_inventory', 'player_1_has_defuser', 'player_1_has_helmet',\n",
       "       'player_1_armor_value',\n",
       "       ...\n",
       "       'player_10_name', 'player_10_team_num', 'player_10_kills_total',\n",
       "       'player_10_deaths_total', 'player_10_inventory',\n",
       "       'player_10_has_defuser', 'player_10_has_helmet',\n",
       "       'player_10_armor_value', 'player_10_current_equip_value',\n",
       "       'player_10_balance'],\n",
       "      dtype='object', length=111)"
      ]
     },
     "execution_count": 183,
     "metadata": {},
     "output_type": "execute_result"
    }
   ],
   "source": [
    "df.columns"
   ]
  },
  {
   "cell_type": "code",
   "execution_count": 184,
   "metadata": {},
   "outputs": [],
   "source": [
    "df.dropna(subset=['round_winner'], inplace=True)"
   ]
  },
  {
   "cell_type": "code",
   "execution_count": 185,
   "metadata": {},
   "outputs": [
    {
     "data": {
      "text/plain": [
       "array(['CT', 'T', '3', '2', '1'], dtype=object)"
      ]
     },
     "execution_count": 185,
     "metadata": {},
     "output_type": "execute_result"
    }
   ],
   "source": [
    "df['round_winner'].unique()"
   ]
  },
  {
   "cell_type": "code",
   "execution_count": 186,
   "metadata": {},
   "outputs": [
    {
     "name": "stdout",
     "output_type": "stream",
     "text": [
      "round_winner\n",
      "CT    1797\n",
      "T     1705\n",
      "2      428\n",
      "3      356\n",
      "1        5\n",
      "Name: count, dtype: int64\n"
     ]
    }
   ],
   "source": [
    "round_winner_counts = df['round_winner'].value_counts()\n",
    "print(round_winner_counts)"
   ]
  },
  {
   "cell_type": "code",
   "execution_count": 187,
   "metadata": {},
   "outputs": [],
   "source": [
    "df = df[df['round_winner'] != \"1\"]"
   ]
  },
  {
   "cell_type": "code",
   "execution_count": 188,
   "metadata": {},
   "outputs": [
    {
     "data": {
      "text/plain": [
       "4286"
      ]
     },
     "execution_count": 188,
     "metadata": {},
     "output_type": "execute_result"
    }
   ],
   "source": [
    "df['round_winner'].count()"
   ]
  },
  {
   "cell_type": "code",
   "execution_count": 189,
   "metadata": {},
   "outputs": [
    {
     "name": "stderr",
     "output_type": "stream",
     "text": [
      "C:\\Users\\Cosmin\\AppData\\Local\\Temp\\ipykernel_20464\\1361703144.py:1: FutureWarning: Downcasting behavior in `replace` is deprecated and will be removed in a future version. To retain the old behavior, explicitly call `result.infer_objects(copy=False)`. To opt-in to the future behavior, set `pd.set_option('future.no_silent_downcasting', True)`\n",
      "  df['round_winner'] = df['round_winner'].replace({'CT': 1, '3': 1, 'T': 0, '2': 0}).astype(int)\n"
     ]
    }
   ],
   "source": [
    "df['round_winner'] = df['round_winner'].replace({'CT': 1, '3': 1, 'T': 0, '2': 0}).astype(int)"
   ]
  },
  {
   "cell_type": "code",
   "execution_count": 190,
   "metadata": {},
   "outputs": [
    {
     "data": {
      "text/plain": [
       "array([1, 0])"
      ]
     },
     "execution_count": 190,
     "metadata": {},
     "output_type": "execute_result"
    }
   ],
   "source": [
    "df['round_winner'].unique()"
   ]
  },
  {
   "cell_type": "code",
   "execution_count": 191,
   "metadata": {},
   "outputs": [
    {
     "name": "stdout",
     "output_type": "stream",
     "text": [
      "round_winner\n",
      "1    2153\n",
      "0    2133\n",
      "Name: count, dtype: int64\n"
     ]
    }
   ],
   "source": [
    "round_winner_counts = df['round_winner'].value_counts()\n",
    "print(round_winner_counts)"
   ]
  },
  {
   "cell_type": "code",
   "execution_count": 192,
   "metadata": {},
   "outputs": [],
   "source": [
    "team_num_columns = [f'player_{i}_team_num' for i in range(1, 11)]"
   ]
  },
  {
   "cell_type": "code",
   "execution_count": 193,
   "metadata": {},
   "outputs": [],
   "source": [
    "df = df.dropna(subset=team_num_columns)"
   ]
  },
  {
   "cell_type": "code",
   "execution_count": 194,
   "metadata": {},
   "outputs": [],
   "source": [
    "for i in range(1, 11):\n",
    "    df[f'player_{i}_team_num'] = df[f'player_{i}_team_num'].replace({2.0: 0, 3.0: 1}).astype(int)\n",
    "    for suffix in ['has_defuser', 'has_helmet']:\n",
    "        column_name = f'player_{i}_{suffix}'\n",
    "        df = df[df[column_name].isin([True, False])]\n",
    "boolean_columns = [f'player_{i}_{suffix}' for i in range(1, 11) for suffix in ['has_defuser', 'has_helmet']]\n",
    "df[boolean_columns] = df[boolean_columns].astype(int)"
   ]
  },
  {
   "cell_type": "code",
   "execution_count": 195,
   "metadata": {},
   "outputs": [
    {
     "name": "stdout",
     "output_type": "stream",
     "text": [
      "[0 1]\n",
      "[1 0]\n",
      "[1 0]\n",
      "[1 0]\n",
      "[0 1]\n",
      "[0 1]\n",
      "[1 0]\n",
      "[0 1]\n",
      "[0 1]\n",
      "[1 0]\n"
     ]
    }
   ],
   "source": [
    "for i in range(1,11):\n",
    "    print(df[f'player_{i}_team_num'].unique())"
   ]
  },
  {
   "cell_type": "code",
   "execution_count": 196,
   "metadata": {},
   "outputs": [],
   "source": [
    "primary_weapons = [\n",
    "    'AK-47', 'M4A1-S', 'M4A4', 'AWP', 'AUG', 'SG 553', 'FAMAS', 'Galil AR',\n",
    "    'Scar-20', 'G3SG1', 'MP5-SD', 'UMP-45', 'P90', 'MAC-10', 'MP7', 'MP9',\n",
    "    'PP-Bizon', 'Negev', 'M249', 'Nova', 'XM1014', 'Sawed-Off', 'MAG-7'\n",
    "]\n",
    "secondary_weapons = [\n",
    "    'P2000', 'USP-S', 'Glock-18', 'P250', 'Five-SeveN', 'Tec-9', \n",
    "    'CZ75-Auto', 'Desert Eagle', 'R8 Revolver', 'Dual Berettas'\n",
    "]\n",
    "\n",
    "grenades = ['Smoke Grenade', 'High Explosive Grenade', 'Flashbang', 'Incendiary Grenade', 'Molotov', 'Decoy Grenade']"
   ]
  },
  {
   "cell_type": "code",
   "execution_count": 197,
   "metadata": {},
   "outputs": [],
   "source": [
    "all_new_columns = {}"
   ]
  },
  {
   "cell_type": "code",
   "execution_count": 198,
   "metadata": {},
   "outputs": [],
   "source": [
    "for i in range(1, 11):\n",
    "    if f'player_{i}_balance' in df.columns:\n",
    "        new_columns_df = pd.DataFrame(index=df.index)\n",
    "        for item in primary_weapons + secondary_weapons + grenades:\n",
    "            new_columns_df[f'player_{i}_{item}'] = 0\n",
    "\n",
    "        all_new_columns[f'player_{i}_balance'] = new_columns_df"
   ]
  },
  {
   "cell_type": "code",
   "execution_count": 199,
   "metadata": {},
   "outputs": [],
   "source": [
    "for key, value in all_new_columns.items():\n",
    "    insert_pos = df.columns.get_loc(key) + 1\n",
    "    df = pd.concat([df.iloc[:, :insert_pos], value, df.iloc[:, insert_pos:]], axis=1)"
   ]
  },
  {
   "cell_type": "code",
   "execution_count": 200,
   "metadata": {},
   "outputs": [],
   "source": [
    "def convert_to_list(x):\n",
    "    try:\n",
    "        return ast.literal_eval(x)\n",
    "    except ValueError:\n",
    "        return []  \n",
    "    except SyntaxError:\n",
    "        return []"
   ]
  },
  {
   "cell_type": "code",
   "execution_count": 201,
   "metadata": {},
   "outputs": [],
   "source": [
    "for i in range(1, 11):\n",
    "    column_name = f'player_{i}_inventory'\n",
    "    df[column_name] = df[column_name].apply(convert_to_list)"
   ]
  },
  {
   "cell_type": "code",
   "execution_count": 203,
   "metadata": {},
   "outputs": [],
   "source": [
    "def one_hot_encode_inventory(row):\n",
    "    for i in range(1, 11):\n",
    "        inventory = row[f'player_{i}_inventory']\n",
    "        if isinstance(inventory, list):\n",
    "            for item in inventory:\n",
    "                if item in primary_weapons or item in secondary_weapons:\n",
    "                    row[f'player_{i}_{item}'] = 1\n",
    "                elif item in grenades:\n",
    "                    row[f'player_{i}_{item}'] = 1\n",
    "    return row"
   ]
  },
  {
   "cell_type": "code",
   "execution_count": 204,
   "metadata": {},
   "outputs": [],
   "source": [
    "df = df.apply(one_hot_encode_inventory, axis=1)"
   ]
  },
  {
   "cell_type": "code",
   "execution_count": 205,
   "metadata": {},
   "outputs": [],
   "source": [
    "for i in range(1, 11):\n",
    "    df.drop(columns=[f'player_{i}_inventory'], inplace=True)"
   ]
  },
  {
   "cell_type": "code",
   "execution_count": 206,
   "metadata": {},
   "outputs": [],
   "source": [
    "df.to_csv('cleaned_data.csv', index=False)"
   ]
  }
 ],
 "metadata": {
  "kernelspec": {
   "display_name": "venv",
   "language": "python",
   "name": "python3"
  },
  "language_info": {
   "codemirror_mode": {
    "name": "ipython",
    "version": 3
   },
   "file_extension": ".py",
   "mimetype": "text/x-python",
   "name": "python",
   "nbconvert_exporter": "python",
   "pygments_lexer": "ipython3",
   "version": "3.11.7"
  }
 },
 "nbformat": 4,
 "nbformat_minor": 2
}

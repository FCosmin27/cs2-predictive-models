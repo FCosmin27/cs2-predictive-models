{
 "cells": [
  {
   "cell_type": "code",
   "execution_count": 2,
   "metadata": {},
   "outputs": [],
   "source": [
    "import pandas as pd\n",
    "import numpy as np\n",
    "import matplotlib.pyplot as plt\n",
    "from sklearn import metrics\n",
    "from sklearn.metrics import classification_report, confusion_matrix"
   ]
  },
  {
   "cell_type": "code",
   "execution_count": 3,
   "metadata": {},
   "outputs": [
    {
     "data": {
      "text/html": [
       "<div>\n",
       "<style scoped>\n",
       "    .dataframe tbody tr th:only-of-type {\n",
       "        vertical-align: middle;\n",
       "    }\n",
       "\n",
       "    .dataframe tbody tr th {\n",
       "        vertical-align: top;\n",
       "    }\n",
       "\n",
       "    .dataframe thead th {\n",
       "        text-align: right;\n",
       "    }\n",
       "</style>\n",
       "<table border=\"1\" class=\"dataframe\">\n",
       "  <thead>\n",
       "    <tr style=\"text-align: right;\">\n",
       "      <th></th>\n",
       "      <th>Score</th>\n",
       "      <th>Team1_Position</th>\n",
       "      <th>Team1_Win_Percentage</th>\n",
       "      <th>Team2_Position</th>\n",
       "      <th>Team2_Win_Percentage</th>\n",
       "      <th>Team1_Player1_Rating</th>\n",
       "      <th>Team1_Player1_Kills_Per_Round</th>\n",
       "      <th>Team1_Player1_Deaths_Per_Round</th>\n",
       "      <th>Team1_Player1_Headshots</th>\n",
       "      <th>Team1_Player2_Rating</th>\n",
       "      <th>...</th>\n",
       "      <th>Team2_Player3_Deaths_Per_Round</th>\n",
       "      <th>Team2_Player3_Headshots</th>\n",
       "      <th>Team2_Player4_Rating</th>\n",
       "      <th>Team2_Player4_Kills_Per_Round</th>\n",
       "      <th>Team2_Player4_Deaths_Per_Round</th>\n",
       "      <th>Team2_Player4_Headshots</th>\n",
       "      <th>Team2_Player5_Rating</th>\n",
       "      <th>Team2_Player5_Kills_Per_Round</th>\n",
       "      <th>Team2_Player5_Deaths_Per_Round</th>\n",
       "      <th>Team2_Player5_Headshots</th>\n",
       "    </tr>\n",
       "  </thead>\n",
       "  <tbody>\n",
       "    <tr>\n",
       "      <th>0</th>\n",
       "      <td>0</td>\n",
       "      <td>4</td>\n",
       "      <td>79.2</td>\n",
       "      <td>1</td>\n",
       "      <td>72.4</td>\n",
       "      <td>1.03</td>\n",
       "      <td>0.63</td>\n",
       "      <td>0.64</td>\n",
       "      <td>56.1</td>\n",
       "      <td>1.21</td>\n",
       "      <td>...</td>\n",
       "      <td>0.63</td>\n",
       "      <td>54.0</td>\n",
       "      <td>1.12</td>\n",
       "      <td>0.71</td>\n",
       "      <td>0.60</td>\n",
       "      <td>52.5</td>\n",
       "      <td>1.18</td>\n",
       "      <td>0.74</td>\n",
       "      <td>0.59</td>\n",
       "      <td>35.1</td>\n",
       "    </tr>\n",
       "    <tr>\n",
       "      <th>1</th>\n",
       "      <td>1</td>\n",
       "      <td>4</td>\n",
       "      <td>79.2</td>\n",
       "      <td>2</td>\n",
       "      <td>77.3</td>\n",
       "      <td>1.03</td>\n",
       "      <td>0.63</td>\n",
       "      <td>0.64</td>\n",
       "      <td>56.1</td>\n",
       "      <td>1.21</td>\n",
       "      <td>...</td>\n",
       "      <td>0.65</td>\n",
       "      <td>65.9</td>\n",
       "      <td>1.16</td>\n",
       "      <td>0.73</td>\n",
       "      <td>0.65</td>\n",
       "      <td>51.2</td>\n",
       "      <td>1.17</td>\n",
       "      <td>0.74</td>\n",
       "      <td>0.57</td>\n",
       "      <td>38.4</td>\n",
       "    </tr>\n",
       "    <tr>\n",
       "      <th>2</th>\n",
       "      <td>1</td>\n",
       "      <td>4</td>\n",
       "      <td>79.2</td>\n",
       "      <td>18</td>\n",
       "      <td>72.0</td>\n",
       "      <td>1.03</td>\n",
       "      <td>0.63</td>\n",
       "      <td>0.64</td>\n",
       "      <td>56.1</td>\n",
       "      <td>1.21</td>\n",
       "      <td>...</td>\n",
       "      <td>0.64</td>\n",
       "      <td>48.6</td>\n",
       "      <td>1.14</td>\n",
       "      <td>0.73</td>\n",
       "      <td>0.61</td>\n",
       "      <td>52.2</td>\n",
       "      <td>1.11</td>\n",
       "      <td>0.69</td>\n",
       "      <td>0.66</td>\n",
       "      <td>53.5</td>\n",
       "    </tr>\n",
       "    <tr>\n",
       "      <th>3</th>\n",
       "      <td>1</td>\n",
       "      <td>4</td>\n",
       "      <td>79.2</td>\n",
       "      <td>7</td>\n",
       "      <td>63.0</td>\n",
       "      <td>1.03</td>\n",
       "      <td>0.63</td>\n",
       "      <td>0.64</td>\n",
       "      <td>56.1</td>\n",
       "      <td>1.21</td>\n",
       "      <td>...</td>\n",
       "      <td>0.65</td>\n",
       "      <td>35.8</td>\n",
       "      <td>1.09</td>\n",
       "      <td>0.65</td>\n",
       "      <td>0.67</td>\n",
       "      <td>48.0</td>\n",
       "      <td>1.12</td>\n",
       "      <td>0.68</td>\n",
       "      <td>0.57</td>\n",
       "      <td>45.9</td>\n",
       "    </tr>\n",
       "    <tr>\n",
       "      <th>4</th>\n",
       "      <td>1</td>\n",
       "      <td>4</td>\n",
       "      <td>79.2</td>\n",
       "      <td>30</td>\n",
       "      <td>62.0</td>\n",
       "      <td>1.03</td>\n",
       "      <td>0.63</td>\n",
       "      <td>0.64</td>\n",
       "      <td>56.1</td>\n",
       "      <td>1.21</td>\n",
       "      <td>...</td>\n",
       "      <td>0.66</td>\n",
       "      <td>55.2</td>\n",
       "      <td>1.10</td>\n",
       "      <td>0.68</td>\n",
       "      <td>0.68</td>\n",
       "      <td>55.5</td>\n",
       "      <td>1.09</td>\n",
       "      <td>0.66</td>\n",
       "      <td>0.66</td>\n",
       "      <td>52.3</td>\n",
       "    </tr>\n",
       "  </tbody>\n",
       "</table>\n",
       "<p>5 rows × 45 columns</p>\n",
       "</div>"
      ],
      "text/plain": [
       "   Score  Team1_Position  Team1_Win_Percentage  Team2_Position  \\\n",
       "0      0               4                  79.2               1   \n",
       "1      1               4                  79.2               2   \n",
       "2      1               4                  79.2              18   \n",
       "3      1               4                  79.2               7   \n",
       "4      1               4                  79.2              30   \n",
       "\n",
       "   Team2_Win_Percentage  Team1_Player1_Rating  Team1_Player1_Kills_Per_Round  \\\n",
       "0                  72.4                  1.03                           0.63   \n",
       "1                  77.3                  1.03                           0.63   \n",
       "2                  72.0                  1.03                           0.63   \n",
       "3                  63.0                  1.03                           0.63   \n",
       "4                  62.0                  1.03                           0.63   \n",
       "\n",
       "   Team1_Player1_Deaths_Per_Round  Team1_Player1_Headshots  \\\n",
       "0                            0.64                     56.1   \n",
       "1                            0.64                     56.1   \n",
       "2                            0.64                     56.1   \n",
       "3                            0.64                     56.1   \n",
       "4                            0.64                     56.1   \n",
       "\n",
       "   Team1_Player2_Rating  ...  Team2_Player3_Deaths_Per_Round  \\\n",
       "0                  1.21  ...                            0.63   \n",
       "1                  1.21  ...                            0.65   \n",
       "2                  1.21  ...                            0.64   \n",
       "3                  1.21  ...                            0.65   \n",
       "4                  1.21  ...                            0.66   \n",
       "\n",
       "   Team2_Player3_Headshots  Team2_Player4_Rating  \\\n",
       "0                     54.0                  1.12   \n",
       "1                     65.9                  1.16   \n",
       "2                     48.6                  1.14   \n",
       "3                     35.8                  1.09   \n",
       "4                     55.2                  1.10   \n",
       "\n",
       "   Team2_Player4_Kills_Per_Round  Team2_Player4_Deaths_Per_Round  \\\n",
       "0                           0.71                            0.60   \n",
       "1                           0.73                            0.65   \n",
       "2                           0.73                            0.61   \n",
       "3                           0.65                            0.67   \n",
       "4                           0.68                            0.68   \n",
       "\n",
       "   Team2_Player4_Headshots  Team2_Player5_Rating  \\\n",
       "0                     52.5                  1.18   \n",
       "1                     51.2                  1.17   \n",
       "2                     52.2                  1.11   \n",
       "3                     48.0                  1.12   \n",
       "4                     55.5                  1.09   \n",
       "\n",
       "   Team2_Player5_Kills_Per_Round  Team2_Player5_Deaths_Per_Round  \\\n",
       "0                           0.74                            0.59   \n",
       "1                           0.74                            0.57   \n",
       "2                           0.69                            0.66   \n",
       "3                           0.68                            0.57   \n",
       "4                           0.66                            0.66   \n",
       "\n",
       "   Team2_Player5_Headshots  \n",
       "0                     35.1  \n",
       "1                     38.4  \n",
       "2                     53.5  \n",
       "3                     45.9  \n",
       "4                     52.3  \n",
       "\n",
       "[5 rows x 45 columns]"
      ]
     },
     "execution_count": 3,
     "metadata": {},
     "output_type": "execute_result"
    }
   ],
   "source": [
    "df = pd.read_csv('data/match_data.csv')\n",
    "df = df.drop(['Team1', 'Team2', 'Date'], axis=1)\n",
    "df.head()"
   ]
  },
  {
   "cell_type": "code",
   "execution_count": 56,
   "metadata": {},
   "outputs": [],
   "source": [
    "def sigmoid(z):\n",
    "    \"\"\"Numerically stable sigmoid function.\"\"\"\n",
    "    z = np.clip(z, -500, 500)  # Limit z to avoid overflow\n",
    "    return np.where(z >= 0,\n",
    "                    1 / (1 + np.exp(-z)),\n",
    "                    np.exp(z) / (1 + np.exp(z)))"
   ]
  },
  {
   "cell_type": "code",
   "execution_count": 57,
   "metadata": {},
   "outputs": [],
   "source": [
    "def cross_entropy(y, y_pred):\n",
    "    epsilon = 1e-15\n",
    "    y_pred = np.clip(y_pred, epsilon, 1 - epsilon)\n",
    "    return -np.mean(y * np.log(y_pred) + (1 - y) * np.log(1 - y_pred))\n"
   ]
  },
  {
   "cell_type": "code",
   "execution_count": 58,
   "metadata": {},
   "outputs": [],
   "source": [
    "def compute_gradients(X, y, y_pred):\n",
    "    diff = y_pred - y\n",
    "    return np.dot(X.T, diff) / len(y)"
   ]
  },
  {
   "cell_type": "code",
   "execution_count": 59,
   "metadata": {},
   "outputs": [],
   "source": [
    "def standardize_features(X):\n",
    "    return (X - np.mean(X, axis=0)) / np.std(X, axis=0)"
   ]
  },
  {
   "cell_type": "code",
   "execution_count": 60,
   "metadata": {},
   "outputs": [],
   "source": [
    "def initialize_weights(size):\n",
    "    std_dev = np.sqrt(2 / (size + 1))\n",
    "    return np.random.randn(size) * std_dev"
   ]
  },
  {
   "cell_type": "code",
   "execution_count": 61,
   "metadata": {},
   "outputs": [],
   "source": [
    "def logistic_regression(X, y, lr, epochs, e=1e-6):\n",
    "    w = initialize_weights(X.shape[1])\n",
    "    losses = []\n",
    "    for epoch in range(epochs):\n",
    "        z = np.dot(X, w)\n",
    "        y_pred = sigmoid(z)\n",
    "        loss = cross_entropy(y, y_pred)\n",
    "        gradients = compute_gradients(X, y, y_pred)\n",
    "        w -= lr * gradients\n",
    "        new_loss = cross_entropy(y, sigmoid(np.dot(X, w)))\n",
    "        losses.append(new_loss)\n",
    "        if epoch % 250 == 0:\n",
    "            print(f'Epoch {epoch}, loss {loss}')\n",
    "        if np.abs(new_loss - loss) < e:\n",
    "            print(np.abs(new_loss - loss))\n",
    "            print(f'Converged at epoch {epoch}')\n",
    "            break\n",
    "    return w, losses"
   ]
  },
  {
   "cell_type": "code",
   "execution_count": 62,
   "metadata": {},
   "outputs": [],
   "source": [
    "def predict(X, w, threshold=0.5):\n",
    "    z = np.dot(X, w)\n",
    "    probabilities = sigmoid(z)\n",
    "    return (probabilities >= threshold).astype(int)\n"
   ]
  },
  {
   "cell_type": "code",
   "execution_count": 1,
   "metadata": {},
   "outputs": [
    {
     "ename": "NameError",
     "evalue": "name 'df' is not defined",
     "output_type": "error",
     "traceback": [
      "\u001b[1;31m---------------------------------------------------------------------------\u001b[0m",
      "\u001b[1;31mNameError\u001b[0m                                 Traceback (most recent call last)",
      "Cell \u001b[1;32mIn[1], line 1\u001b[0m\n\u001b[1;32m----> 1\u001b[0m X \u001b[38;5;241m=\u001b[39m \u001b[43mdf\u001b[49m\u001b[38;5;241m.\u001b[39mdrop([\u001b[38;5;124m'\u001b[39m\u001b[38;5;124mScore\u001b[39m\u001b[38;5;124m'\u001b[39m], axis\u001b[38;5;241m=\u001b[39m\u001b[38;5;241m1\u001b[39m)\n\u001b[0;32m      2\u001b[0m X\u001b[38;5;241m.\u001b[39mhead()\n",
      "\u001b[1;31mNameError\u001b[0m: name 'df' is not defined"
     ]
    }
   ],
   "source": [
    "X = df.drop(['Score'], axis=1)\n",
    "X.head()\n"
   ]
  },
  {
   "cell_type": "code",
   "execution_count": 65,
   "metadata": {},
   "outputs": [],
   "source": [
    "y = df['Score']"
   ]
  },
  {
   "cell_type": "code",
   "execution_count": 66,
   "metadata": {},
   "outputs": [],
   "source": [
    "X = X.values\n",
    "y = y.values"
   ]
  },
  {
   "cell_type": "code",
   "execution_count": 67,
   "metadata": {},
   "outputs": [
    {
     "data": {
      "text/plain": [
       "array([[ 4.  , 79.2 ,  1.  , ...,  0.74,  0.59, 35.1 ],\n",
       "       [ 4.  , 79.2 ,  2.  , ...,  0.74,  0.57, 38.4 ],\n",
       "       [ 4.  , 79.2 , 18.  , ...,  0.69,  0.66, 53.5 ],\n",
       "       ...,\n",
       "       [55.  , 36.6 , 46.  , ...,  0.7 ,  0.62, 53.7 ],\n",
       "       [55.  , 36.6 , 45.  , ...,  0.65,  0.63, 55.4 ],\n",
       "       [55.  , 36.6 , 75.  , ...,  0.71,  0.69, 54.7 ]])"
      ]
     },
     "execution_count": 67,
     "metadata": {},
     "output_type": "execute_result"
    }
   ],
   "source": [
    "X"
   ]
  },
  {
   "cell_type": "code",
   "execution_count": 68,
   "metadata": {},
   "outputs": [],
   "source": [
    "X = standardize_features(X)"
   ]
  },
  {
   "cell_type": "code",
   "execution_count": 69,
   "metadata": {},
   "outputs": [
    {
     "data": {
      "text/plain": [
       "array([-1.05145274,  1.65132967, -1.20676088,  1.41282585, -0.2319657 ,\n",
       "       -0.27253566, -0.31315283,  0.90003205,  1.1673928 ,  0.97812987,\n",
       "       -3.03465801, -1.63189269,  0.12523644, -1.14309623, -1.55142616,\n",
       "       -0.33893255,  0.64052006, -0.08008058, -0.24422441, -1.81576738,\n",
       "        3.81737174,  3.96143534,  0.34922635,  1.14321813, -1.54755109,\n",
       "       -2.12039397, -0.12333656, -0.60567026, -0.72556889, -0.63272124,\n",
       "        0.61203526, -0.80990526,  0.1502777 ,  0.21391327,  0.25406446,\n",
       "        1.5487827 ,  1.01444233,  0.98116381, -0.02399162,  0.05204533,\n",
       "        0.54632025,  0.58597532, -1.64480175, -1.44307383])"
      ]
     },
     "execution_count": 69,
     "metadata": {},
     "output_type": "execute_result"
    }
   ],
   "source": [
    "X[1]"
   ]
  },
  {
   "cell_type": "code",
   "execution_count": 70,
   "metadata": {},
   "outputs": [],
   "source": [
    "lr = 0.1\n",
    "epochs = 10000"
   ]
  },
  {
   "cell_type": "code",
   "execution_count": 71,
   "metadata": {},
   "outputs": [
    {
     "name": "stdout",
     "output_type": "stream",
     "text": [
      "Epoch 0, loss 0.9459890872791092\n",
      "Epoch 250, loss 0.6511882007411476\n",
      "Epoch 500, loss 0.6495787150624139\n",
      "Epoch 750, loss 0.6489247095169183\n",
      "Epoch 1000, loss 0.6485120570003087\n",
      "9.99346447372318e-07\n",
      "Converged at epoch 1213\n"
     ]
    }
   ],
   "source": [
    "w, losses = logistic_regression(X, y, lr, epochs)"
   ]
  },
  {
   "cell_type": "code",
   "execution_count": 72,
   "metadata": {},
   "outputs": [
    {
     "name": "stdout",
     "output_type": "stream",
     "text": [
      "Weights: [-0.40405318  0.25445948  0.39449294 -0.2422118   0.02060783 -0.04316972\n",
      "  0.18388546 -0.11375026  0.18727607 -0.17185062  0.05751448  0.00903618\n",
      " -0.01228291 -0.02634977  0.10511725 -0.0105707  -0.11344284 -0.06443107\n",
      " -0.04843959 -0.0115789   0.06842453 -0.0072358  -0.08372377  0.12548952\n",
      "  0.10799631 -0.0603736  -0.15943277  0.12159253 -0.1525753   0.16961265\n",
      " -0.05807318  0.05658135 -0.20638903  0.19653075 -0.12252505  0.007445\n",
      "  0.13489792  0.07684496  0.04889601  0.04080881 -0.1591662   0.16654951\n",
      "  0.03264831 -0.0283446 ]\n"
     ]
    }
   ],
   "source": [
    "print(f\"Weights: {w}\")"
   ]
  },
  {
   "cell_type": "code",
   "execution_count": 73,
   "metadata": {},
   "outputs": [
    {
     "data": {
      "text/plain": [
       "Text(0, 0.5, 'Loss')"
      ]
     },
     "execution_count": 73,
     "metadata": {},
     "output_type": "execute_result"
    },
    {
     "data": {
      "image/png": "[encoded data removed]",
      "text/plain": [
       "<Figure size 640x480 with 1 Axes>"
      ]
     },
     "metadata": {},
     "output_type": "display_data"
    }
   ],
   "source": [
    "plt.title(\"Loss\")\n",
    "plt.plot(losses)\n",
    "plt.xlabel(\"Iteratii\")\n",
    "plt.ylabel(\"Loss\")"
   ]
  },
  {
   "cell_type": "code",
   "execution_count": 74,
   "metadata": {},
   "outputs": [],
   "source": [
    "y_pred = predict(X, w)"
   ]
  },
  {
   "cell_type": "code",
   "execution_count": 75,
   "metadata": {},
   "outputs": [
    {
     "name": "stdout",
     "output_type": "stream",
     "text": [
      "              precision    recall  f1-score   support\n",
      "\n",
      "           0       0.62      0.63      0.62      1259\n",
      "           1       0.63      0.61      0.62      1296\n",
      "\n",
      "    accuracy                           0.62      2555\n",
      "   macro avg       0.62      0.62      0.62      2555\n",
      "weighted avg       0.62      0.62      0.62      2555\n",
      "\n",
      "                 Predicted Negative  Predicted Positive\n",
      "Actual Negative                 798                 461\n",
      "Actual Positive                 499                 797\n"
     ]
    }
   ],
   "source": [
    "print(classification_report(y, y_pred))\n",
    "confusion_matrix = metrics.confusion_matrix(y, y_pred)\n",
    "conf_matrix_df = pd.DataFrame(confusion_matrix, index=['Actual Negative', 'Actual Positive'],\n",
    "                              columns=['Predicted Negative', 'Predicted Positive'])\n",
    "print(conf_matrix_df)"
   ]
  },
  {
   "cell_type": "markdown",
   "metadata": {},
   "source": [
    "The accuracy of 74% provides a general sense of how often the model is correct but does not distinguish between the types of errors (false positives vs. false negatives)."
   ]
  },
  {
   "cell_type": "markdown",
   "metadata": {},
   "source": [
    "The precision of 71% is decent, suggesting that when a positive class is predicted, it’s likely to be correct more than two-thirds of the time. However, about 29% of your positive predictions are false positives."
   ]
  },
  {
   "cell_type": "markdown",
   "metadata": {},
   "source": [
    "The recall of 77% is relatively high, which is good if it's critical not to miss any true positives. However, you're still missing about 23% of actual positives, which could be critical depending on the application."
   ]
  }
 ],
 "metadata": {
  "kernelspec": {
   "display_name": "venv",
   "language": "python",
   "name": "python3"
  },
  "language_info": {
   "codemirror_mode": {
    "name": "ipython",
    "version": 3
   },
   "file_extension": ".py",
   "mimetype": "text/x-python",
   "name": "python",
   "nbconvert_exporter": "python",
   "pygments_lexer": "ipython3",
   "version": "3.11.7"
  }
 },
 "nbformat": 4,
 "nbformat_minor": 2
}
